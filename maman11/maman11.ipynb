{
 "cells": [
  {
   "cell_type": "code",
   "execution_count": 18,
   "id": "initial_id",
   "metadata": {
    "ExecuteTime": {
     "end_time": "2023-12-17T18:33:56.001940Z",
     "start_time": "2023-12-17T18:33:55.391849Z"
    }
   },
   "outputs": [],
   "source": [
    "import sklearn.linear_model\n",
    "from sklearn.datasets import fetch_openml"
   ]
  },
  {
   "cell_type": "code",
   "execution_count": 19,
   "id": "aed34aeb81e2009f",
   "metadata": {
    "ExecuteTime": {
     "end_time": "2023-12-17T18:34:21.280779Z",
     "start_time": "2023-12-17T18:33:56.000156Z"
    }
   },
   "outputs": [
    {
     "name": "stderr",
     "output_type": "stream",
     "text": [
      "/Users/zivlazarov/miniforge3/envs/tensorflow-env/lib/python3.8/site-packages/sklearn/datasets/_openml.py:968: FutureWarning: The default value of `parser` will change from `'liac-arff'` to `'auto'` in 1.4. You can set `parser='auto'` to silence this warning. Therefore, an `ImportError` will be raised from 1.4 if the dataset is dense and pandas is not installed. Note that the pandas parser may return different data types. See the Notes Section in fetch_openml's API doc for details.\n",
      "  warn(\n"
     ]
    }
   ],
   "source": [
    "mnist = fetch_openml('mnist_784', version=1)"
   ]
  },
  {
   "cell_type": "code",
   "execution_count": 20,
   "id": "b724eddfe26c426a",
   "metadata": {
    "ExecuteTime": {
     "end_time": "2023-12-17T18:34:21.282264Z",
     "start_time": "2023-12-17T18:34:21.280158Z"
    }
   },
   "outputs": [],
   "source": [
    "X, y = mnist['data'], mnist['target']"
   ]
  },
  {
   "cell_type": "code",
   "execution_count": 21,
   "id": "999605737a6fe6bc",
   "metadata": {
    "ExecuteTime": {
     "end_time": "2023-12-17T18:34:21.288865Z",
     "start_time": "2023-12-17T18:34:21.281644Z"
    }
   },
   "outputs": [
    {
     "data": {
      "text/plain": [
       "(70000, 784)"
      ]
     },
     "execution_count": 21,
     "metadata": {},
     "output_type": "execute_result"
    }
   ],
   "source": [
    "X.shape"
   ]
  },
  {
   "cell_type": "code",
   "execution_count": 22,
   "id": "600e1678c18adcb1",
   "metadata": {
    "ExecuteTime": {
     "end_time": "2023-12-17T18:34:21.294835Z",
     "start_time": "2023-12-17T18:34:21.291806Z"
    }
   },
   "outputs": [
    {
     "data": {
      "text/plain": [
       "pixel782    0.0\n",
       "pixel783    0.0\n",
       "Name: 0, dtype: float64"
      ]
     },
     "execution_count": 22,
     "metadata": {},
     "output_type": "execute_result"
    }
   ],
   "source": [
    "X.iloc[0, -3:-1]"
   ]
  },
  {
   "cell_type": "code",
   "execution_count": 23,
   "id": "700e57da071e01c1",
   "metadata": {
    "ExecuteTime": {
     "end_time": "2023-12-17T18:34:21.301382Z",
     "start_time": "2023-12-17T18:34:21.294945Z"
    }
   },
   "outputs": [],
   "source": [
    "# setting pixel values to be in [0, 1] range\n",
    "# X = X/255.0"
   ]
  },
  {
   "cell_type": "code",
   "execution_count": 24,
   "id": "d103905cce7b61f3",
   "metadata": {
    "ExecuteTime": {
     "end_time": "2023-12-17T18:34:21.301507Z",
     "start_time": "2023-12-17T18:34:21.296870Z"
    }
   },
   "outputs": [],
   "source": [
    "columns = list(X.columns)"
   ]
  },
  {
   "cell_type": "code",
   "execution_count": 25,
   "id": "7906f3273f018a64",
   "metadata": {
    "ExecuteTime": {
     "end_time": "2023-12-17T18:34:21.330204Z",
     "start_time": "2023-12-17T18:34:21.300067Z"
    }
   },
   "outputs": [],
   "source": [
    "new_columns = ['bias']"
   ]
  },
  {
   "cell_type": "code",
   "execution_count": 26,
   "id": "857079070204200d",
   "metadata": {
    "ExecuteTime": {
     "end_time": "2023-12-17T18:34:21.337679Z",
     "start_time": "2023-12-17T18:34:21.302621Z"
    }
   },
   "outputs": [],
   "source": [
    "# new list for the dataframe's columns\n",
    "new_columns.extend(columns)"
   ]
  },
  {
   "cell_type": "code",
   "execution_count": 27,
   "id": "806dccbb44c36ae0",
   "metadata": {
    "ExecuteTime": {
     "end_time": "2023-12-17T18:34:21.338119Z",
     "start_time": "2023-12-17T18:34:21.305848Z"
    }
   },
   "outputs": [],
   "source": [
    "# creating the bias column\n",
    "X['bias'] = 1"
   ]
  },
  {
   "cell_type": "code",
   "execution_count": 28,
   "id": "481a9b8d0fde7928",
   "metadata": {
    "ExecuteTime": {
     "end_time": "2023-12-17T18:34:21.339751Z",
     "start_time": "2023-12-17T18:34:21.309783Z"
    }
   },
   "outputs": [
    {
     "data": {
      "text/html": [
       "<div>\n",
       "<style scoped>\n",
       "    .dataframe tbody tr th:only-of-type {\n",
       "        vertical-align: middle;\n",
       "    }\n",
       "\n",
       "    .dataframe tbody tr th {\n",
       "        vertical-align: top;\n",
       "    }\n",
       "\n",
       "    .dataframe thead th {\n",
       "        text-align: right;\n",
       "    }\n",
       "</style>\n",
       "<table border=\"1\" class=\"dataframe\">\n",
       "  <thead>\n",
       "    <tr style=\"text-align: right;\">\n",
       "      <th></th>\n",
       "      <th>pixel1</th>\n",
       "      <th>pixel2</th>\n",
       "      <th>pixel3</th>\n",
       "      <th>pixel4</th>\n",
       "      <th>pixel5</th>\n",
       "      <th>pixel6</th>\n",
       "      <th>pixel7</th>\n",
       "      <th>pixel8</th>\n",
       "      <th>pixel9</th>\n",
       "      <th>pixel10</th>\n",
       "      <th>...</th>\n",
       "      <th>pixel776</th>\n",
       "      <th>pixel777</th>\n",
       "      <th>pixel778</th>\n",
       "      <th>pixel779</th>\n",
       "      <th>pixel780</th>\n",
       "      <th>pixel781</th>\n",
       "      <th>pixel782</th>\n",
       "      <th>pixel783</th>\n",
       "      <th>pixel784</th>\n",
       "      <th>bias</th>\n",
       "    </tr>\n",
       "  </thead>\n",
       "  <tbody>\n",
       "    <tr>\n",
       "      <th>0</th>\n",
       "      <td>0.0</td>\n",
       "      <td>0.0</td>\n",
       "      <td>0.0</td>\n",
       "      <td>0.0</td>\n",
       "      <td>0.0</td>\n",
       "      <td>0.0</td>\n",
       "      <td>0.0</td>\n",
       "      <td>0.0</td>\n",
       "      <td>0.0</td>\n",
       "      <td>0.0</td>\n",
       "      <td>...</td>\n",
       "      <td>0.0</td>\n",
       "      <td>0.0</td>\n",
       "      <td>0.0</td>\n",
       "      <td>0.0</td>\n",
       "      <td>0.0</td>\n",
       "      <td>0.0</td>\n",
       "      <td>0.0</td>\n",
       "      <td>0.0</td>\n",
       "      <td>0.0</td>\n",
       "      <td>1</td>\n",
       "    </tr>\n",
       "    <tr>\n",
       "      <th>1</th>\n",
       "      <td>0.0</td>\n",
       "      <td>0.0</td>\n",
       "      <td>0.0</td>\n",
       "      <td>0.0</td>\n",
       "      <td>0.0</td>\n",
       "      <td>0.0</td>\n",
       "      <td>0.0</td>\n",
       "      <td>0.0</td>\n",
       "      <td>0.0</td>\n",
       "      <td>0.0</td>\n",
       "      <td>...</td>\n",
       "      <td>0.0</td>\n",
       "      <td>0.0</td>\n",
       "      <td>0.0</td>\n",
       "      <td>0.0</td>\n",
       "      <td>0.0</td>\n",
       "      <td>0.0</td>\n",
       "      <td>0.0</td>\n",
       "      <td>0.0</td>\n",
       "      <td>0.0</td>\n",
       "      <td>1</td>\n",
       "    </tr>\n",
       "    <tr>\n",
       "      <th>2</th>\n",
       "      <td>0.0</td>\n",
       "      <td>0.0</td>\n",
       "      <td>0.0</td>\n",
       "      <td>0.0</td>\n",
       "      <td>0.0</td>\n",
       "      <td>0.0</td>\n",
       "      <td>0.0</td>\n",
       "      <td>0.0</td>\n",
       "      <td>0.0</td>\n",
       "      <td>0.0</td>\n",
       "      <td>...</td>\n",
       "      <td>0.0</td>\n",
       "      <td>0.0</td>\n",
       "      <td>0.0</td>\n",
       "      <td>0.0</td>\n",
       "      <td>0.0</td>\n",
       "      <td>0.0</td>\n",
       "      <td>0.0</td>\n",
       "      <td>0.0</td>\n",
       "      <td>0.0</td>\n",
       "      <td>1</td>\n",
       "    </tr>\n",
       "    <tr>\n",
       "      <th>3</th>\n",
       "      <td>0.0</td>\n",
       "      <td>0.0</td>\n",
       "      <td>0.0</td>\n",
       "      <td>0.0</td>\n",
       "      <td>0.0</td>\n",
       "      <td>0.0</td>\n",
       "      <td>0.0</td>\n",
       "      <td>0.0</td>\n",
       "      <td>0.0</td>\n",
       "      <td>0.0</td>\n",
       "      <td>...</td>\n",
       "      <td>0.0</td>\n",
       "      <td>0.0</td>\n",
       "      <td>0.0</td>\n",
       "      <td>0.0</td>\n",
       "      <td>0.0</td>\n",
       "      <td>0.0</td>\n",
       "      <td>0.0</td>\n",
       "      <td>0.0</td>\n",
       "      <td>0.0</td>\n",
       "      <td>1</td>\n",
       "    </tr>\n",
       "    <tr>\n",
       "      <th>4</th>\n",
       "      <td>0.0</td>\n",
       "      <td>0.0</td>\n",
       "      <td>0.0</td>\n",
       "      <td>0.0</td>\n",
       "      <td>0.0</td>\n",
       "      <td>0.0</td>\n",
       "      <td>0.0</td>\n",
       "      <td>0.0</td>\n",
       "      <td>0.0</td>\n",
       "      <td>0.0</td>\n",
       "      <td>...</td>\n",
       "      <td>0.0</td>\n",
       "      <td>0.0</td>\n",
       "      <td>0.0</td>\n",
       "      <td>0.0</td>\n",
       "      <td>0.0</td>\n",
       "      <td>0.0</td>\n",
       "      <td>0.0</td>\n",
       "      <td>0.0</td>\n",
       "      <td>0.0</td>\n",
       "      <td>1</td>\n",
       "    </tr>\n",
       "  </tbody>\n",
       "</table>\n",
       "<p>5 rows × 785 columns</p>\n",
       "</div>"
      ],
      "text/plain": [
       "   pixel1  pixel2  pixel3  pixel4  pixel5  pixel6  pixel7  pixel8  pixel9  \\\n",
       "0     0.0     0.0     0.0     0.0     0.0     0.0     0.0     0.0     0.0   \n",
       "1     0.0     0.0     0.0     0.0     0.0     0.0     0.0     0.0     0.0   \n",
       "2     0.0     0.0     0.0     0.0     0.0     0.0     0.0     0.0     0.0   \n",
       "3     0.0     0.0     0.0     0.0     0.0     0.0     0.0     0.0     0.0   \n",
       "4     0.0     0.0     0.0     0.0     0.0     0.0     0.0     0.0     0.0   \n",
       "\n",
       "   pixel10  ...  pixel776  pixel777  pixel778  pixel779  pixel780  pixel781  \\\n",
       "0      0.0  ...       0.0       0.0       0.0       0.0       0.0       0.0   \n",
       "1      0.0  ...       0.0       0.0       0.0       0.0       0.0       0.0   \n",
       "2      0.0  ...       0.0       0.0       0.0       0.0       0.0       0.0   \n",
       "3      0.0  ...       0.0       0.0       0.0       0.0       0.0       0.0   \n",
       "4      0.0  ...       0.0       0.0       0.0       0.0       0.0       0.0   \n",
       "\n",
       "   pixel782  pixel783  pixel784  bias  \n",
       "0       0.0       0.0       0.0     1  \n",
       "1       0.0       0.0       0.0     1  \n",
       "2       0.0       0.0       0.0     1  \n",
       "3       0.0       0.0       0.0     1  \n",
       "4       0.0       0.0       0.0     1  \n",
       "\n",
       "[5 rows x 785 columns]"
      ]
     },
     "execution_count": 28,
     "metadata": {},
     "output_type": "execute_result"
    }
   ],
   "source": [
    "X.head()"
   ]
  },
  {
   "cell_type": "code",
   "execution_count": 29,
   "id": "c93002b7239b2eca",
   "metadata": {
    "ExecuteTime": {
     "end_time": "2023-12-17T18:34:21.407028Z",
     "start_time": "2023-12-17T18:34:21.321293Z"
    }
   },
   "outputs": [],
   "source": [
    "# reordering the dataframe with the first column to be the bias\n",
    "X = X[new_columns]"
   ]
  },
  {
   "cell_type": "code",
   "execution_count": 30,
   "id": "4cc8c6d5862c2637",
   "metadata": {
    "ExecuteTime": {
     "end_time": "2023-12-17T18:34:21.420928Z",
     "start_time": "2023-12-17T18:34:21.383928Z"
    }
   },
   "outputs": [
    {
     "data": {
      "text/html": [
       "<div>\n",
       "<style scoped>\n",
       "    .dataframe tbody tr th:only-of-type {\n",
       "        vertical-align: middle;\n",
       "    }\n",
       "\n",
       "    .dataframe tbody tr th {\n",
       "        vertical-align: top;\n",
       "    }\n",
       "\n",
       "    .dataframe thead th {\n",
       "        text-align: right;\n",
       "    }\n",
       "</style>\n",
       "<table border=\"1\" class=\"dataframe\">\n",
       "  <thead>\n",
       "    <tr style=\"text-align: right;\">\n",
       "      <th></th>\n",
       "      <th>bias</th>\n",
       "      <th>pixel1</th>\n",
       "      <th>pixel2</th>\n",
       "      <th>pixel3</th>\n",
       "      <th>pixel4</th>\n",
       "      <th>pixel5</th>\n",
       "      <th>pixel6</th>\n",
       "      <th>pixel7</th>\n",
       "      <th>pixel8</th>\n",
       "      <th>pixel9</th>\n",
       "      <th>...</th>\n",
       "      <th>pixel775</th>\n",
       "      <th>pixel776</th>\n",
       "      <th>pixel777</th>\n",
       "      <th>pixel778</th>\n",
       "      <th>pixel779</th>\n",
       "      <th>pixel780</th>\n",
       "      <th>pixel781</th>\n",
       "      <th>pixel782</th>\n",
       "      <th>pixel783</th>\n",
       "      <th>pixel784</th>\n",
       "    </tr>\n",
       "  </thead>\n",
       "  <tbody>\n",
       "    <tr>\n",
       "      <th>0</th>\n",
       "      <td>1</td>\n",
       "      <td>0.0</td>\n",
       "      <td>0.0</td>\n",
       "      <td>0.0</td>\n",
       "      <td>0.0</td>\n",
       "      <td>0.0</td>\n",
       "      <td>0.0</td>\n",
       "      <td>0.0</td>\n",
       "      <td>0.0</td>\n",
       "      <td>0.0</td>\n",
       "      <td>...</td>\n",
       "      <td>0.0</td>\n",
       "      <td>0.0</td>\n",
       "      <td>0.0</td>\n",
       "      <td>0.0</td>\n",
       "      <td>0.0</td>\n",
       "      <td>0.0</td>\n",
       "      <td>0.0</td>\n",
       "      <td>0.0</td>\n",
       "      <td>0.0</td>\n",
       "      <td>0.0</td>\n",
       "    </tr>\n",
       "    <tr>\n",
       "      <th>1</th>\n",
       "      <td>1</td>\n",
       "      <td>0.0</td>\n",
       "      <td>0.0</td>\n",
       "      <td>0.0</td>\n",
       "      <td>0.0</td>\n",
       "      <td>0.0</td>\n",
       "      <td>0.0</td>\n",
       "      <td>0.0</td>\n",
       "      <td>0.0</td>\n",
       "      <td>0.0</td>\n",
       "      <td>...</td>\n",
       "      <td>0.0</td>\n",
       "      <td>0.0</td>\n",
       "      <td>0.0</td>\n",
       "      <td>0.0</td>\n",
       "      <td>0.0</td>\n",
       "      <td>0.0</td>\n",
       "      <td>0.0</td>\n",
       "      <td>0.0</td>\n",
       "      <td>0.0</td>\n",
       "      <td>0.0</td>\n",
       "    </tr>\n",
       "    <tr>\n",
       "      <th>2</th>\n",
       "      <td>1</td>\n",
       "      <td>0.0</td>\n",
       "      <td>0.0</td>\n",
       "      <td>0.0</td>\n",
       "      <td>0.0</td>\n",
       "      <td>0.0</td>\n",
       "      <td>0.0</td>\n",
       "      <td>0.0</td>\n",
       "      <td>0.0</td>\n",
       "      <td>0.0</td>\n",
       "      <td>...</td>\n",
       "      <td>0.0</td>\n",
       "      <td>0.0</td>\n",
       "      <td>0.0</td>\n",
       "      <td>0.0</td>\n",
       "      <td>0.0</td>\n",
       "      <td>0.0</td>\n",
       "      <td>0.0</td>\n",
       "      <td>0.0</td>\n",
       "      <td>0.0</td>\n",
       "      <td>0.0</td>\n",
       "    </tr>\n",
       "    <tr>\n",
       "      <th>3</th>\n",
       "      <td>1</td>\n",
       "      <td>0.0</td>\n",
       "      <td>0.0</td>\n",
       "      <td>0.0</td>\n",
       "      <td>0.0</td>\n",
       "      <td>0.0</td>\n",
       "      <td>0.0</td>\n",
       "      <td>0.0</td>\n",
       "      <td>0.0</td>\n",
       "      <td>0.0</td>\n",
       "      <td>...</td>\n",
       "      <td>0.0</td>\n",
       "      <td>0.0</td>\n",
       "      <td>0.0</td>\n",
       "      <td>0.0</td>\n",
       "      <td>0.0</td>\n",
       "      <td>0.0</td>\n",
       "      <td>0.0</td>\n",
       "      <td>0.0</td>\n",
       "      <td>0.0</td>\n",
       "      <td>0.0</td>\n",
       "    </tr>\n",
       "    <tr>\n",
       "      <th>4</th>\n",
       "      <td>1</td>\n",
       "      <td>0.0</td>\n",
       "      <td>0.0</td>\n",
       "      <td>0.0</td>\n",
       "      <td>0.0</td>\n",
       "      <td>0.0</td>\n",
       "      <td>0.0</td>\n",
       "      <td>0.0</td>\n",
       "      <td>0.0</td>\n",
       "      <td>0.0</td>\n",
       "      <td>...</td>\n",
       "      <td>0.0</td>\n",
       "      <td>0.0</td>\n",
       "      <td>0.0</td>\n",
       "      <td>0.0</td>\n",
       "      <td>0.0</td>\n",
       "      <td>0.0</td>\n",
       "      <td>0.0</td>\n",
       "      <td>0.0</td>\n",
       "      <td>0.0</td>\n",
       "      <td>0.0</td>\n",
       "    </tr>\n",
       "  </tbody>\n",
       "</table>\n",
       "<p>5 rows × 785 columns</p>\n",
       "</div>"
      ],
      "text/plain": [
       "   bias  pixel1  pixel2  pixel3  pixel4  pixel5  pixel6  pixel7  pixel8  \\\n",
       "0     1     0.0     0.0     0.0     0.0     0.0     0.0     0.0     0.0   \n",
       "1     1     0.0     0.0     0.0     0.0     0.0     0.0     0.0     0.0   \n",
       "2     1     0.0     0.0     0.0     0.0     0.0     0.0     0.0     0.0   \n",
       "3     1     0.0     0.0     0.0     0.0     0.0     0.0     0.0     0.0   \n",
       "4     1     0.0     0.0     0.0     0.0     0.0     0.0     0.0     0.0   \n",
       "\n",
       "   pixel9  ...  pixel775  pixel776  pixel777  pixel778  pixel779  pixel780  \\\n",
       "0     0.0  ...       0.0       0.0       0.0       0.0       0.0       0.0   \n",
       "1     0.0  ...       0.0       0.0       0.0       0.0       0.0       0.0   \n",
       "2     0.0  ...       0.0       0.0       0.0       0.0       0.0       0.0   \n",
       "3     0.0  ...       0.0       0.0       0.0       0.0       0.0       0.0   \n",
       "4     0.0  ...       0.0       0.0       0.0       0.0       0.0       0.0   \n",
       "\n",
       "   pixel781  pixel782  pixel783  pixel784  \n",
       "0       0.0       0.0       0.0       0.0  \n",
       "1       0.0       0.0       0.0       0.0  \n",
       "2       0.0       0.0       0.0       0.0  \n",
       "3       0.0       0.0       0.0       0.0  \n",
       "4       0.0       0.0       0.0       0.0  \n",
       "\n",
       "[5 rows x 785 columns]"
      ]
     },
     "execution_count": 30,
     "metadata": {},
     "output_type": "execute_result"
    }
   ],
   "source": [
    "X.head()"
   ]
  },
  {
   "cell_type": "code",
   "execution_count": 31,
   "id": "7a2da81eb41574cb",
   "metadata": {
    "ExecuteTime": {
     "end_time": "2023-12-17T18:34:21.421059Z",
     "start_time": "2023-12-17T18:34:21.388938Z"
    }
   },
   "outputs": [
    {
     "data": {
      "text/plain": [
       "(70000, 785)"
      ]
     },
     "execution_count": 31,
     "metadata": {},
     "output_type": "execute_result"
    }
   ],
   "source": [
    "# getting the correct shape\n",
    "X.shape"
   ]
  },
  {
   "cell_type": "code",
   "execution_count": 32,
   "id": "420b3eb9d0901970",
   "metadata": {
    "ExecuteTime": {
     "end_time": "2023-12-17T18:34:21.421116Z",
     "start_time": "2023-12-17T18:34:21.392008Z"
    }
   },
   "outputs": [
    {
     "data": {
      "text/plain": [
       "(70000,)"
      ]
     },
     "execution_count": 32,
     "metadata": {},
     "output_type": "execute_result"
    }
   ],
   "source": [
    "y.shape"
   ]
  },
  {
   "cell_type": "code",
   "execution_count": 33,
   "id": "b4de14ccb9cebe95",
   "metadata": {
    "ExecuteTime": {
     "end_time": "2023-12-17T18:34:21.421176Z",
     "start_time": "2023-12-17T18:34:21.395704Z"
    }
   },
   "outputs": [
    {
     "data": {
      "text/plain": [
       "0    5\n",
       "1    0\n",
       "2    4\n",
       "3    1\n",
       "4    9\n",
       "Name: class, dtype: category\n",
       "Categories (10, object): ['0', '1', '2', '3', ..., '6', '7', '8', '9']"
      ]
     },
     "execution_count": 33,
     "metadata": {},
     "output_type": "execute_result"
    }
   ],
   "source": [
    "y.head()"
   ]
  },
  {
   "cell_type": "code",
   "execution_count": 34,
   "id": "721417d9c407fd1b",
   "metadata": {
    "ExecuteTime": {
     "end_time": "2023-12-17T18:34:21.421229Z",
     "start_time": "2023-12-17T18:34:21.398510Z"
    }
   },
   "outputs": [],
   "source": [
    "# working with integers instead of strings for convenience\n",
    "y = y.apply(lambda x : int(x))"
   ]
  },
  {
   "cell_type": "code",
   "execution_count": 35,
   "id": "7420c4660bb29b5f",
   "metadata": {
    "ExecuteTime": {
     "end_time": "2023-12-17T18:34:21.421582Z",
     "start_time": "2023-12-17T18:34:21.402882Z"
    }
   },
   "outputs": [
    {
     "data": {
      "text/plain": [
       "0    5\n",
       "1    0\n",
       "2    4\n",
       "3    1\n",
       "4    9\n",
       "Name: class, dtype: category\n",
       "Categories (10, int64): [0, 1, 2, 3, ..., 6, 7, 8, 9]"
      ]
     },
     "execution_count": 35,
     "metadata": {},
     "output_type": "execute_result"
    }
   ],
   "source": [
    "y.head()"
   ]
  },
  {
   "cell_type": "code",
   "execution_count": 36,
   "id": "c97dadba68536ed8",
   "metadata": {
    "ExecuteTime": {
     "end_time": "2023-12-17T18:34:21.856221Z",
     "start_time": "2023-12-17T18:34:21.405945Z"
    }
   },
   "outputs": [],
   "source": [
    "import matplotlib.pyplot as plt"
   ]
  },
  {
   "cell_type": "code",
   "execution_count": 37,
   "id": "8f186f985d6589d9",
   "metadata": {
    "ExecuteTime": {
     "end_time": "2023-12-17T19:32:36.918902Z",
     "start_time": "2023-12-17T19:32:36.910796Z"
    }
   },
   "outputs": [],
   "source": [
    "import numpy as np\n",
    "\n",
    "\n",
    "class Perceptron:\n",
    "\n",
    "    def __init__(self, num_features, num_classes, epochs=1, lr=0.001):\n",
    "        # num_features here includes the extra bias column with the dataset\n",
    "        self.num_classes = num_classes\n",
    "        self.num_features = num_features\n",
    "        self.num_samples = 0\n",
    "        self.epochs = epochs\n",
    "        self.lr = lr\n",
    "        # initializing the weights vector for every class with values [-1, 1]\n",
    "        # self.weights = np.random.uniform(low=-1, high=1, size=(num_classes, num_features))\n",
    "        self.weights = np.random.rand(num_classes, num_features)\n",
    "        # self.weights = np.zeros(shape=(num_classes, num_features))\n",
    "        self.final_weights = self.weights\n",
    "        # determined by the size of samples\n",
    "        self.labels = None\n",
    "                  \n",
    "    def init_multi_class_labels(self, y_train):\n",
    "        self.num_samples = X_train.shape[0]\n",
    "        # initializing the perceptron training labels\n",
    "        self.labels = np.zeros(shape=(self.num_classes, self.num_samples))\n",
    "        # setting labels' values based on every class in the training data\n",
    "        for class_idx in range(self.num_classes):\n",
    "            self.labels[class_idx][y_train == class_idx] = 1\n",
    "            self.labels[class_idx][y_train != class_idx] = -1\n",
    "\n",
    "    def fit(self, X_train, y_train):\n",
    "        self.init_multi_class_labels(y_train)\n",
    "        # defining error value for each class for pocket algorithm\n",
    "        min_errors = np.full(shape=(self.num_classes,), fill_value=np.inf)\n",
    "        # traversing the dataset\n",
    "        for epoch in range(self.epochs):\n",
    "            for t in range(self.num_samples):\n",
    "                # getting the relevant class for this current sample\n",
    "                class_idx = y_train[t]\n",
    "                # predicting with the class' weight vector\n",
    "                y_pred = np.sign(self.weights[class_idx].T.dot(X_train[t]))\n",
    "                # improving weight vector\n",
    "                # if y_pred != self.labels[class_idx][t]:\n",
    "                self.weights[class_idx] += (self.lr * y_pred) * X_train[t]\n",
    "                # calculating the updated weight vector error\n",
    "                error_t = np.sum(\n",
    "                    np.sign(self.weights[class_idx].dot(X_train.T)) != self.labels[class_idx]\n",
    "                ) / self.num_samples\n",
    "                # if better than the relevant pocket weight vector, update it\n",
    "                if error_t < min_errors[class_idx]:\n",
    "                    self.final_weights[class_idx, :] = self.weights[class_idx, :]\n",
    "                    min_errors[class_idx] = error_t\n",
    "    \n",
    "            \n",
    "        print(min_errors)\n",
    "                        \n",
    "    def predict(self, X_test):\n",
    "        num_test_samples = len(X_test)\n",
    "        predictions = np.zeros(shape=(num_test_samples,))\n",
    "        for i in range(num_test_samples):\n",
    "            predictions[i] = np.argmax([self.final_weights[idx].T.dot(X_test[i]) for idx in range(self.num_classes)])\n",
    "        return predictions\n",
    "        \n",
    "\n",
    "    def error(self, weights, X, y):\n",
    "        return np.sum(np.sign(weights.dot(X.T)) != y) / self.num_samples\n",
    "\n",
    "\n",
    "def sign(value):\n",
    "    return 1 if value >= 0 else -1"
   ]
  },
  {
   "cell_type": "code",
   "execution_count": 38,
   "id": "2913eff25e86ee90",
   "metadata": {
    "ExecuteTime": {
     "end_time": "2023-12-17T19:32:42.414465Z",
     "start_time": "2023-12-17T19:32:42.396502Z"
    }
   },
   "outputs": [],
   "source": [
    "from sklearn.model_selection import train_test_split\n",
    "num_train_samples = 60000"
   ]
  },
  {
   "cell_type": "code",
   "execution_count": 39,
   "id": "f630136d790aaff1",
   "metadata": {
    "ExecuteTime": {
     "end_time": "2023-12-17T19:44:56.213161Z",
     "start_time": "2023-12-17T19:44:55.925796Z"
    }
   },
   "outputs": [],
   "source": [
    "X_train, X_test, y_train, y_test = train_test_split(X, y, train_size=num_train_samples/len(X), shuffle=True)\n",
    "X_train, X_test, y_train, y_test = X_train.to_numpy(), X_test.to_numpy(), y_train.to_numpy(), y_test.to_numpy()"
   ]
  },
  {
   "cell_type": "code",
   "execution_count": 40,
   "id": "b2f4e68e0e2ae0a4",
   "metadata": {
    "ExecuteTime": {
     "end_time": "2023-12-17T19:44:56.349486Z",
     "start_time": "2023-12-17T19:44:56.337730Z"
    }
   },
   "outputs": [
    {
     "data": {
      "text/plain": [
       "(60000, 785)"
      ]
     },
     "execution_count": 40,
     "metadata": {},
     "output_type": "execute_result"
    }
   ],
   "source": [
    "X_train.shape"
   ]
  },
  {
   "cell_type": "code",
   "execution_count": 50,
   "id": "e6f265eab9140f46",
   "metadata": {
    "ExecuteTime": {
     "end_time": "2023-12-17T19:44:57.897375Z",
     "start_time": "2023-12-17T19:44:57.885417Z"
    }
   },
   "outputs": [],
   "source": [
    "model = Perceptron(num_features=X_train.shape[1], num_classes=y.nunique(), epochs=10, lr=1)"
   ]
  },
  {
   "cell_type": "code",
   "execution_count": 51,
   "id": "c13423d23cee0734",
   "metadata": {
    "ExecuteTime": {
     "end_time": "2023-12-17T19:44:58.056624Z",
     "start_time": "2023-12-17T19:44:58.054162Z"
    }
   },
   "outputs": [],
   "source": [
    "import time"
   ]
  },
  {
   "cell_type": "code",
   "execution_count": 52,
   "id": "186c4a143d748919",
   "metadata": {
    "ExecuteTime": {
     "end_time": "2023-12-17T19:53:28.602731Z",
     "start_time": "2023-12-17T19:45:00.160605Z"
    }
   },
   "outputs": [
    {
     "name": "stdout",
     "output_type": "stream",
     "text": [
      "[0.90155    0.88755    0.90065    0.89868333 0.90158333 0.91025\n",
      " 0.90185    0.89545    0.90188333 0.90055   ]\n"
     ]
    }
   ],
   "source": [
    "start_time = time.time()\n",
    "model.fit(X_train, y_train)\n",
    "end_time = time.time()"
   ]
  },
  {
   "cell_type": "code",
   "execution_count": 53,
   "id": "627ffd63a6f53ae2",
   "metadata": {
    "ExecuteTime": {
     "end_time": "2023-12-17T19:53:28.603904Z",
     "start_time": "2023-12-17T19:53:28.599484Z"
    }
   },
   "outputs": [
    {
     "data": {
      "text/plain": [
       "4480.149859189987"
      ]
     },
     "execution_count": 53,
     "metadata": {},
     "output_type": "execute_result"
    }
   ],
   "source": [
    "end_time - start_time"
   ]
  },
  {
   "cell_type": "code",
   "execution_count": 54,
   "id": "f5a4c063d4d6c8f5",
   "metadata": {
    "ExecuteTime": {
     "end_time": "2023-12-17T19:53:28.797043Z",
     "start_time": "2023-12-17T19:53:28.605292Z"
    }
   },
   "outputs": [],
   "source": [
    "predictions = model.predict(X_test)"
   ]
  },
  {
   "cell_type": "code",
   "execution_count": 55,
   "id": "1a38dd2c8ac96170",
   "metadata": {
    "ExecuteTime": {
     "end_time": "2023-12-17T19:53:28.802065Z",
     "start_time": "2023-12-17T19:53:28.797871Z"
    }
   },
   "outputs": [
    {
     "data": {
      "text/plain": [
       "0.6813"
      ]
     },
     "execution_count": 55,
     "metadata": {},
     "output_type": "execute_result"
    }
   ],
   "source": [
    "num_test_samples = len(y_test)\n",
    "np.sum(predictions == y_test) / num_test_samples"
   ]
  },
  {
   "cell_type": "code",
   "execution_count": 56,
   "id": "55c206bd17a9df70",
   "metadata": {},
   "outputs": [],
   "source": [
    "with open('model_weights.npy', 'wb') as f:\n",
    "    np.save(f, model.final_weights)"
   ]
  },
  {
   "cell_type": "code",
   "execution_count": null,
   "id": "4293d93d",
   "metadata": {},
   "outputs": [],
   "source": []
  }
 ],
 "metadata": {
  "kernelspec": {
   "display_name": "Python 3 (ipykernel)",
   "language": "python",
   "name": "python3"
  },
  "language_info": {
   "codemirror_mode": {
    "name": "ipython",
    "version": 3
   },
   "file_extension": ".py",
   "mimetype": "text/x-python",
   "name": "python",
   "nbconvert_exporter": "python",
   "pygments_lexer": "ipython3",
   "version": "3.8.16"
  }
 },
 "nbformat": 4,
 "nbformat_minor": 5
}
