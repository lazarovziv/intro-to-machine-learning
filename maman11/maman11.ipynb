{
 "cells": [
  {
   "cell_type": "code",
   "execution_count": 1,
   "id": "initial_id",
   "metadata": {
    "ExecuteTime": {
     "end_time": "2023-12-17T18:33:56.001940Z",
     "start_time": "2023-12-17T18:33:55.391849Z"
    }
   },
   "outputs": [],
   "source": [
    "import time\n",
    "import sklearn.linear_model\n",
    "from sklearn.datasets import fetch_openml\n",
    "import sys\n",
    "import numpy as np\n",
    "# np.set_printoptions(threshold=sys.maxsize)"
   ]
  },
  {
   "cell_type": "code",
   "execution_count": 2,
   "id": "aed34aeb81e2009f",
   "metadata": {
    "ExecuteTime": {
     "end_time": "2023-12-17T18:34:21.280779Z",
     "start_time": "2023-12-17T18:33:56.000156Z"
    }
   },
   "outputs": [
    {
     "name": "stderr",
     "output_type": "stream",
     "text": [
      "/Users/zivlazarov/miniforge3/envs/tensorflow-env/lib/python3.8/site-packages/sklearn/datasets/_openml.py:968: FutureWarning: The default value of `parser` will change from `'liac-arff'` to `'auto'` in 1.4. You can set `parser='auto'` to silence this warning. Therefore, an `ImportError` will be raised from 1.4 if the dataset is dense and pandas is not installed. Note that the pandas parser may return different data types. See the Notes Section in fetch_openml's API doc for details.\n",
      "  warn(\n"
     ]
    }
   ],
   "source": [
    "mnist = fetch_openml('mnist_784', version=1)"
   ]
  },
  {
   "cell_type": "code",
   "execution_count": 3,
   "id": "b724eddfe26c426a",
   "metadata": {
    "ExecuteTime": {
     "end_time": "2023-12-17T18:34:21.282264Z",
     "start_time": "2023-12-17T18:34:21.280158Z"
    }
   },
   "outputs": [],
   "source": [
    "X, y = mnist['data'], mnist['target']"
   ]
  },
  {
   "cell_type": "code",
   "execution_count": 4,
   "id": "999605737a6fe6bc",
   "metadata": {
    "ExecuteTime": {
     "end_time": "2023-12-17T18:34:21.288865Z",
     "start_time": "2023-12-17T18:34:21.281644Z"
    }
   },
   "outputs": [
    {
     "data": {
      "text/plain": [
       "(70000, 784)"
      ]
     },
     "execution_count": 4,
     "metadata": {},
     "output_type": "execute_result"
    }
   ],
   "source": [
    "X.shape"
   ]
  },
  {
   "cell_type": "code",
   "execution_count": 5,
   "id": "600e1678c18adcb1",
   "metadata": {
    "ExecuteTime": {
     "end_time": "2023-12-17T18:34:21.294835Z",
     "start_time": "2023-12-17T18:34:21.291806Z"
    }
   },
   "outputs": [
    {
     "data": {
      "text/plain": [
       "pixel782    0.0\n",
       "pixel783    0.0\n",
       "Name: 0, dtype: float64"
      ]
     },
     "execution_count": 5,
     "metadata": {},
     "output_type": "execute_result"
    }
   ],
   "source": [
    "X.iloc[0, -3:-1]"
   ]
  },
  {
   "cell_type": "code",
   "execution_count": 6,
   "id": "700e57da071e01c1",
   "metadata": {
    "ExecuteTime": {
     "end_time": "2023-12-17T18:34:21.301382Z",
     "start_time": "2023-12-17T18:34:21.294945Z"
    }
   },
   "outputs": [],
   "source": [
    "# setting pixel values to be in [0, 1] range\n",
    "# X = X/255.0"
   ]
  },
  {
   "cell_type": "code",
   "execution_count": 7,
   "id": "d103905cce7b61f3",
   "metadata": {
    "ExecuteTime": {
     "end_time": "2023-12-17T18:34:21.301507Z",
     "start_time": "2023-12-17T18:34:21.296870Z"
    }
   },
   "outputs": [],
   "source": [
    "#columns = list(X.columns)"
   ]
  },
  {
   "cell_type": "code",
   "execution_count": 8,
   "id": "7906f3273f018a64",
   "metadata": {
    "ExecuteTime": {
     "end_time": "2023-12-17T18:34:21.330204Z",
     "start_time": "2023-12-17T18:34:21.300067Z"
    }
   },
   "outputs": [],
   "source": [
    "#new_columns = ['bias']"
   ]
  },
  {
   "cell_type": "code",
   "execution_count": 9,
   "id": "857079070204200d",
   "metadata": {
    "ExecuteTime": {
     "end_time": "2023-12-17T18:34:21.337679Z",
     "start_time": "2023-12-17T18:34:21.302621Z"
    }
   },
   "outputs": [],
   "source": [
    "# new list for the dataframe's columns\n",
    "#new_columns.extend(columns)"
   ]
  },
  {
   "cell_type": "code",
   "execution_count": 10,
   "id": "806dccbb44c36ae0",
   "metadata": {
    "ExecuteTime": {
     "end_time": "2023-12-17T18:34:21.338119Z",
     "start_time": "2023-12-17T18:34:21.305848Z"
    }
   },
   "outputs": [],
   "source": [
    "# creating the bias column\n",
    "#X['bias'] = 1"
   ]
  },
  {
   "cell_type": "code",
   "execution_count": 11,
   "id": "481a9b8d0fde7928",
   "metadata": {
    "ExecuteTime": {
     "end_time": "2023-12-17T18:34:21.339751Z",
     "start_time": "2023-12-17T18:34:21.309783Z"
    }
   },
   "outputs": [
    {
     "data": {
      "text/html": [
       "<div>\n",
       "<style scoped>\n",
       "    .dataframe tbody tr th:only-of-type {\n",
       "        vertical-align: middle;\n",
       "    }\n",
       "\n",
       "    .dataframe tbody tr th {\n",
       "        vertical-align: top;\n",
       "    }\n",
       "\n",
       "    .dataframe thead th {\n",
       "        text-align: right;\n",
       "    }\n",
       "</style>\n",
       "<table border=\"1\" class=\"dataframe\">\n",
       "  <thead>\n",
       "    <tr style=\"text-align: right;\">\n",
       "      <th></th>\n",
       "      <th>pixel1</th>\n",
       "      <th>pixel2</th>\n",
       "      <th>pixel3</th>\n",
       "      <th>pixel4</th>\n",
       "      <th>pixel5</th>\n",
       "      <th>pixel6</th>\n",
       "      <th>pixel7</th>\n",
       "      <th>pixel8</th>\n",
       "      <th>pixel9</th>\n",
       "      <th>pixel10</th>\n",
       "      <th>...</th>\n",
       "      <th>pixel775</th>\n",
       "      <th>pixel776</th>\n",
       "      <th>pixel777</th>\n",
       "      <th>pixel778</th>\n",
       "      <th>pixel779</th>\n",
       "      <th>pixel780</th>\n",
       "      <th>pixel781</th>\n",
       "      <th>pixel782</th>\n",
       "      <th>pixel783</th>\n",
       "      <th>pixel784</th>\n",
       "    </tr>\n",
       "  </thead>\n",
       "  <tbody>\n",
       "    <tr>\n",
       "      <th>0</th>\n",
       "      <td>0.0</td>\n",
       "      <td>0.0</td>\n",
       "      <td>0.0</td>\n",
       "      <td>0.0</td>\n",
       "      <td>0.0</td>\n",
       "      <td>0.0</td>\n",
       "      <td>0.0</td>\n",
       "      <td>0.0</td>\n",
       "      <td>0.0</td>\n",
       "      <td>0.0</td>\n",
       "      <td>...</td>\n",
       "      <td>0.0</td>\n",
       "      <td>0.0</td>\n",
       "      <td>0.0</td>\n",
       "      <td>0.0</td>\n",
       "      <td>0.0</td>\n",
       "      <td>0.0</td>\n",
       "      <td>0.0</td>\n",
       "      <td>0.0</td>\n",
       "      <td>0.0</td>\n",
       "      <td>0.0</td>\n",
       "    </tr>\n",
       "    <tr>\n",
       "      <th>1</th>\n",
       "      <td>0.0</td>\n",
       "      <td>0.0</td>\n",
       "      <td>0.0</td>\n",
       "      <td>0.0</td>\n",
       "      <td>0.0</td>\n",
       "      <td>0.0</td>\n",
       "      <td>0.0</td>\n",
       "      <td>0.0</td>\n",
       "      <td>0.0</td>\n",
       "      <td>0.0</td>\n",
       "      <td>...</td>\n",
       "      <td>0.0</td>\n",
       "      <td>0.0</td>\n",
       "      <td>0.0</td>\n",
       "      <td>0.0</td>\n",
       "      <td>0.0</td>\n",
       "      <td>0.0</td>\n",
       "      <td>0.0</td>\n",
       "      <td>0.0</td>\n",
       "      <td>0.0</td>\n",
       "      <td>0.0</td>\n",
       "    </tr>\n",
       "    <tr>\n",
       "      <th>2</th>\n",
       "      <td>0.0</td>\n",
       "      <td>0.0</td>\n",
       "      <td>0.0</td>\n",
       "      <td>0.0</td>\n",
       "      <td>0.0</td>\n",
       "      <td>0.0</td>\n",
       "      <td>0.0</td>\n",
       "      <td>0.0</td>\n",
       "      <td>0.0</td>\n",
       "      <td>0.0</td>\n",
       "      <td>...</td>\n",
       "      <td>0.0</td>\n",
       "      <td>0.0</td>\n",
       "      <td>0.0</td>\n",
       "      <td>0.0</td>\n",
       "      <td>0.0</td>\n",
       "      <td>0.0</td>\n",
       "      <td>0.0</td>\n",
       "      <td>0.0</td>\n",
       "      <td>0.0</td>\n",
       "      <td>0.0</td>\n",
       "    </tr>\n",
       "    <tr>\n",
       "      <th>3</th>\n",
       "      <td>0.0</td>\n",
       "      <td>0.0</td>\n",
       "      <td>0.0</td>\n",
       "      <td>0.0</td>\n",
       "      <td>0.0</td>\n",
       "      <td>0.0</td>\n",
       "      <td>0.0</td>\n",
       "      <td>0.0</td>\n",
       "      <td>0.0</td>\n",
       "      <td>0.0</td>\n",
       "      <td>...</td>\n",
       "      <td>0.0</td>\n",
       "      <td>0.0</td>\n",
       "      <td>0.0</td>\n",
       "      <td>0.0</td>\n",
       "      <td>0.0</td>\n",
       "      <td>0.0</td>\n",
       "      <td>0.0</td>\n",
       "      <td>0.0</td>\n",
       "      <td>0.0</td>\n",
       "      <td>0.0</td>\n",
       "    </tr>\n",
       "    <tr>\n",
       "      <th>4</th>\n",
       "      <td>0.0</td>\n",
       "      <td>0.0</td>\n",
       "      <td>0.0</td>\n",
       "      <td>0.0</td>\n",
       "      <td>0.0</td>\n",
       "      <td>0.0</td>\n",
       "      <td>0.0</td>\n",
       "      <td>0.0</td>\n",
       "      <td>0.0</td>\n",
       "      <td>0.0</td>\n",
       "      <td>...</td>\n",
       "      <td>0.0</td>\n",
       "      <td>0.0</td>\n",
       "      <td>0.0</td>\n",
       "      <td>0.0</td>\n",
       "      <td>0.0</td>\n",
       "      <td>0.0</td>\n",
       "      <td>0.0</td>\n",
       "      <td>0.0</td>\n",
       "      <td>0.0</td>\n",
       "      <td>0.0</td>\n",
       "    </tr>\n",
       "  </tbody>\n",
       "</table>\n",
       "<p>5 rows × 784 columns</p>\n",
       "</div>"
      ],
      "text/plain": [
       "   pixel1  pixel2  pixel3  pixel4  pixel5  pixel6  pixel7  pixel8  pixel9  \\\n",
       "0     0.0     0.0     0.0     0.0     0.0     0.0     0.0     0.0     0.0   \n",
       "1     0.0     0.0     0.0     0.0     0.0     0.0     0.0     0.0     0.0   \n",
       "2     0.0     0.0     0.0     0.0     0.0     0.0     0.0     0.0     0.0   \n",
       "3     0.0     0.0     0.0     0.0     0.0     0.0     0.0     0.0     0.0   \n",
       "4     0.0     0.0     0.0     0.0     0.0     0.0     0.0     0.0     0.0   \n",
       "\n",
       "   pixel10  ...  pixel775  pixel776  pixel777  pixel778  pixel779  pixel780  \\\n",
       "0      0.0  ...       0.0       0.0       0.0       0.0       0.0       0.0   \n",
       "1      0.0  ...       0.0       0.0       0.0       0.0       0.0       0.0   \n",
       "2      0.0  ...       0.0       0.0       0.0       0.0       0.0       0.0   \n",
       "3      0.0  ...       0.0       0.0       0.0       0.0       0.0       0.0   \n",
       "4      0.0  ...       0.0       0.0       0.0       0.0       0.0       0.0   \n",
       "\n",
       "   pixel781  pixel782  pixel783  pixel784  \n",
       "0       0.0       0.0       0.0       0.0  \n",
       "1       0.0       0.0       0.0       0.0  \n",
       "2       0.0       0.0       0.0       0.0  \n",
       "3       0.0       0.0       0.0       0.0  \n",
       "4       0.0       0.0       0.0       0.0  \n",
       "\n",
       "[5 rows x 784 columns]"
      ]
     },
     "execution_count": 11,
     "metadata": {},
     "output_type": "execute_result"
    }
   ],
   "source": [
    "X.head()"
   ]
  },
  {
   "cell_type": "code",
   "execution_count": 12,
   "id": "c93002b7239b2eca",
   "metadata": {
    "ExecuteTime": {
     "end_time": "2023-12-17T18:34:21.407028Z",
     "start_time": "2023-12-17T18:34:21.321293Z"
    }
   },
   "outputs": [],
   "source": [
    "# reordering the dataframe with the first column to be the bias\n",
    "#X = X[new_columns]"
   ]
  },
  {
   "cell_type": "code",
   "execution_count": 13,
   "id": "4cc8c6d5862c2637",
   "metadata": {
    "ExecuteTime": {
     "end_time": "2023-12-17T18:34:21.420928Z",
     "start_time": "2023-12-17T18:34:21.383928Z"
    }
   },
   "outputs": [],
   "source": [
    "#X.head()"
   ]
  },
  {
   "cell_type": "code",
   "execution_count": 14,
   "id": "7a2da81eb41574cb",
   "metadata": {
    "ExecuteTime": {
     "end_time": "2023-12-17T18:34:21.421059Z",
     "start_time": "2023-12-17T18:34:21.388938Z"
    }
   },
   "outputs": [
    {
     "data": {
      "text/plain": [
       "(70000, 784)"
      ]
     },
     "execution_count": 14,
     "metadata": {},
     "output_type": "execute_result"
    }
   ],
   "source": [
    "# getting the correct shape\n",
    "X.shape"
   ]
  },
  {
   "cell_type": "code",
   "execution_count": 15,
   "id": "420b3eb9d0901970",
   "metadata": {
    "ExecuteTime": {
     "end_time": "2023-12-17T18:34:21.421116Z",
     "start_time": "2023-12-17T18:34:21.392008Z"
    }
   },
   "outputs": [
    {
     "data": {
      "text/plain": [
       "(70000,)"
      ]
     },
     "execution_count": 15,
     "metadata": {},
     "output_type": "execute_result"
    }
   ],
   "source": [
    "y.shape"
   ]
  },
  {
   "cell_type": "code",
   "execution_count": 16,
   "id": "b4de14ccb9cebe95",
   "metadata": {
    "ExecuteTime": {
     "end_time": "2023-12-17T18:34:21.421176Z",
     "start_time": "2023-12-17T18:34:21.395704Z"
    }
   },
   "outputs": [
    {
     "data": {
      "text/plain": [
       "0    5\n",
       "1    0\n",
       "2    4\n",
       "3    1\n",
       "4    9\n",
       "Name: class, dtype: category\n",
       "Categories (10, object): ['0', '1', '2', '3', ..., '6', '7', '8', '9']"
      ]
     },
     "execution_count": 16,
     "metadata": {},
     "output_type": "execute_result"
    }
   ],
   "source": [
    "y.head()"
   ]
  },
  {
   "cell_type": "code",
   "execution_count": 17,
   "id": "721417d9c407fd1b",
   "metadata": {
    "ExecuteTime": {
     "end_time": "2023-12-17T18:34:21.421229Z",
     "start_time": "2023-12-17T18:34:21.398510Z"
    }
   },
   "outputs": [],
   "source": [
    "# working with integers instead of strings for convenience\n",
    "y = y.apply(lambda x : int(x))"
   ]
  },
  {
   "cell_type": "code",
   "execution_count": 18,
   "id": "7420c4660bb29b5f",
   "metadata": {
    "ExecuteTime": {
     "end_time": "2023-12-17T18:34:21.421582Z",
     "start_time": "2023-12-17T18:34:21.402882Z"
    },
    "scrolled": true
   },
   "outputs": [
    {
     "data": {
      "text/plain": [
       "0    5\n",
       "1    0\n",
       "2    4\n",
       "3    1\n",
       "4    9\n",
       "Name: class, dtype: category\n",
       "Categories (10, int64): [0, 1, 2, 3, ..., 6, 7, 8, 9]"
      ]
     },
     "execution_count": 18,
     "metadata": {},
     "output_type": "execute_result"
    }
   ],
   "source": [
    "y.head()"
   ]
  },
  {
   "cell_type": "code",
   "execution_count": 19,
   "id": "ee707104-55ee-441c-b457-89bc8ed7f324",
   "metadata": {},
   "outputs": [],
   "source": [
    "X, y = X.to_numpy(), y.to_numpy()"
   ]
  },
  {
   "cell_type": "code",
   "execution_count": 20,
   "id": "c97dadba68536ed8",
   "metadata": {
    "ExecuteTime": {
     "end_time": "2023-12-17T18:34:21.856221Z",
     "start_time": "2023-12-17T18:34:21.405945Z"
    }
   },
   "outputs": [],
   "source": [
    "import matplotlib.pyplot as plt"
   ]
  },
  {
   "cell_type": "code",
   "execution_count": 21,
   "id": "4cbe20f5",
   "metadata": {},
   "outputs": [
    {
     "data": {
      "image/png": "[encoded data removed]",
      "text/plain": [
       "<Figure size 1000x1000 with 10 Axes>"
      ]
     },
     "metadata": {},
     "output_type": "display_data"
    }
   ],
   "source": [
    "# showing distribution of pixels for every digit\n",
    "fig, ax = plt.subplots(5, 2, figsize=(10, 10))\n",
    "fig.tight_layout()\n",
    "for i in range(len(np.unique(y))):\n",
    "    ax[i//2, i%2].hist(X[np.where(y == i)][:, :])\n",
    "    ax[i//2, i%2].set_title(f'Pixel count for {i}')"
   ]
  },
  {
   "cell_type": "code",
   "execution_count": 22,
   "id": "bc328b58",
   "metadata": {},
   "outputs": [
    {
     "data": {
      "text/plain": [
       "<matplotlib.image.AxesImage at 0x2a2443760>"
      ]
     },
     "execution_count": 22,
     "metadata": {},
     "output_type": "execute_result"
    },
    {
     "data": {
      "image/png": "[encoded data removed]",
      "text/plain": [
       "<Figure size 640x480 with 1 Axes>"
      ]
     },
     "metadata": {},
     "output_type": "display_data"
    }
   ],
   "source": [
    "# getting an idea of an image\n",
    "plt.imshow(X[0, :].reshape(28, 28))"
   ]
  },
  {
   "cell_type": "code",
   "execution_count": 23,
   "id": "fbf41859",
   "metadata": {},
   "outputs": [
    {
     "data": {
      "text/plain": [
       "(array([6903., 7877., 6990., 7141., 6824., 6313., 6876., 7293., 6825.,\n",
       "        6958.]),\n",
       " array([0. , 0.9, 1.8, 2.7, 3.6, 4.5, 5.4, 6.3, 7.2, 8.1, 9. ]),\n",
       " <BarContainer object of 10 artists>)"
      ]
     },
     "execution_count": 23,
     "metadata": {},
     "output_type": "execute_result"
    },
    {
     "data": {
      "image/png": "[encoded data removed]",
      "text/plain": [
       "<Figure size 640x480 with 1 Axes>"
      ]
     },
     "metadata": {},
     "output_type": "display_data"
    }
   ],
   "source": [
    "# check distribution of each digit\n",
    "plt.hist(y)"
   ]
  },
  {
   "cell_type": "code",
   "execution_count": null,
   "id": "98ae7297-220d-4570-9b27-0de30754e00e",
   "metadata": {},
   "outputs": [],
   "source": [
    "# adding the bias column as the first column\n",
    "X = np.concatenate((np.ones(shape=(X.shape[0],))[:, np.newaxis], X), axis=1)"
   ]
  },
  {
   "cell_type": "code",
   "execution_count": null,
   "id": "b40e7bc1-29f4-459a-ac0e-e6300394c86c",
   "metadata": {},
   "outputs": [],
   "source": [
    "np.unique(X[:, 0])"
   ]
  },
  {
   "cell_type": "code",
   "execution_count": null,
   "id": "628bf6b9-fe71-4453-800f-93e243bfa3f9",
   "metadata": {},
   "outputs": [],
   "source": [
    "X.shape"
   ]
  },
  {
   "cell_type": "code",
   "execution_count": 220,
   "id": "8f186f985d6589d9",
   "metadata": {
    "ExecuteTime": {
     "end_time": "2023-12-17T19:32:36.918902Z",
     "start_time": "2023-12-17T19:32:36.910796Z"
    }
   },
   "outputs": [],
   "source": [
    "class Perceptron:\n",
    "\n",
    "    def __init__(self, num_features, classes, epochs=1):\n",
    "        # num_features includes the extra bias column with the dataset so we'll add it\n",
    "        self.num_features = num_features\n",
    "        self.classes = classes\n",
    "        self.num_classes = len(self.classes)\n",
    "        self.num_samples = 0\n",
    "        self.epochs = epochs\n",
    "        \n",
    "        # initializing the weights vector for every class with values [-1, 1]\n",
    "        self.weights = np.random.uniform(low=-1, high=1, size=(self.num_classes, self.num_features))\n",
    "        # self.weights = np.random.rand(self.num_classes, self.num_features)\n",
    "        # self.weights = np.zeros(shape=(self.num_classes, self.num_features))\n",
    "    \n",
    "        # self.final_weights = np.zeros(shape=(self.num_classes, self.num_features))    \n",
    "        self.final_weights = np.copy(self.weights)\n",
    "        # determined by the size of samples\n",
    "        self.labels = None\n",
    "                  \n",
    "    def init_multi_class_labels(self, y_train):\n",
    "        self.num_samples = y_train.shape[0]\n",
    "        # initializing the perceptron training labels\n",
    "        self.labels = np.zeros(shape=(self.num_classes, self.num_samples))\n",
    "        # setting labels' values based on every class in the training data\n",
    "        for class_idx in range(self.num_classes):\n",
    "            self.labels[class_idx, np.where(y_train == class_idx)[0]] = 1\n",
    "            self.labels[class_idx, np.where(y_train != class_idx)[0]] = -1\n",
    "\n",
    "    def fit(self, X_train, y_train):\n",
    "        self.init_multi_class_labels(y_train)\n",
    "        # defining error value for each class for pocket algorithm\n",
    "        min_errors = np.full(shape=(self.num_classes,), fill_value=np.inf)\n",
    "        \n",
    "        '''\n",
    "        choosing 16% (arbitrary decision) of the dataset as random samples to calculate errors,\n",
    "        as we can see from the above cells, the number of occurrences of each digit is \n",
    "        distributed almost uniformly, so getting 16% of the samples can distribute the amount of each\n",
    "        digit in the random sample almost evenly for more general optimization\n",
    "        '''\n",
    "        num_random_samples = int(0.16 * self.num_samples)\n",
    "        \n",
    "        # traversing the dataset\n",
    "        for epoch in range(self.epochs):\n",
    "            for t in range(self.num_samples):\n",
    "                # predicting the current sample with every weight vector using the np.sign method\n",
    "                # because probability of the dot product to be exactly 0 is very low\n",
    "                y_preds = np.sign(self.weights.dot(X_train[t]))\n",
    "\n",
    "                # dividing classes based on their predictions\n",
    "                misclassified_classes_indexes = np.where(y_preds != self.labels[:, t])\n",
    "                # correcting misclassified weight vectors\n",
    "                self.weights[misclassified_classes_indexes] += \\\n",
    "                    self.labels[misclassified_classes_indexes, t][0][:, np.newaxis] * X_train[t, :]\n",
    "                    \n",
    "                # pocketing every 10 samples\n",
    "                if t % 10 == 0:\n",
    "                    # getting random indexes for the sampling\n",
    "                    random_samples_indexes = np.random.choice(self.num_samples, num_random_samples)\n",
    "\n",
    "                    # calculating the errors from the random samples based on the improved vectors\n",
    "                    errors_t = np.sum(\n",
    "                        np.sign(self.weights.dot(X_train[random_samples_indexes, :].T)) \\\n",
    "                            != self.labels[:, random_samples_indexes],\n",
    "                        axis=1) / num_random_samples\n",
    "\n",
    "                    # pocketing the improved weight vectors and updating the min errors\n",
    "                    to_improve_classes_indexes = np.where(errors_t < min_errors)[0]\n",
    "                    \n",
    "                    self.final_weights[to_improve_classes_indexes] = \\\n",
    "                        np.copy(self.weights[to_improve_classes_indexes])\n",
    "                    \n",
    "                    min_errors[to_improve_classes_indexes] = errors_t[to_improve_classes_indexes]\n",
    "        \n",
    "        print(min_errors)\n",
    "        # setting the trained weight vectors\n",
    "        self.weights = np.copy(self.final_weights)\n",
    "                        \n",
    "    def predict(self, X_test):\n",
    "        return np.argmax(X_test.dot(self.weights.T), axis=1)\n",
    "    \n",
    "    def accuracy(self, predictions, y_test):\n",
    "        return np.sum(predictions == y_test) / len(y_test)\n",
    "        \n",
    "\n",
    "    def error(self, weights, X, y):\n",
    "        return np.sum(np.sign(weights.dot(X.T)) != y) / self.num_samples\n",
    "\n",
    "\n",
    "def sign(value):\n",
    "    return 1 if value >= 0 else -1"
   ]
  },
  {
   "cell_type": "code",
   "execution_count": 221,
   "id": "2913eff25e86ee90",
   "metadata": {
    "ExecuteTime": {
     "end_time": "2023-12-17T19:32:42.414465Z",
     "start_time": "2023-12-17T19:32:42.396502Z"
    }
   },
   "outputs": [],
   "source": [
    "from sklearn.model_selection import train_test_split\n",
    "num_train_samples = 60000"
   ]
  },
  {
   "cell_type": "code",
   "execution_count": 222,
   "id": "f630136d790aaff1",
   "metadata": {
    "ExecuteTime": {
     "end_time": "2023-12-17T19:44:56.213161Z",
     "start_time": "2023-12-17T19:44:55.925796Z"
    }
   },
   "outputs": [],
   "source": [
    "X_train, X_test, y_train, y_test = train_test_split(X, y, train_size=num_train_samples/len(X), shuffle=True)"
   ]
  },
  {
   "cell_type": "code",
   "execution_count": 223,
   "id": "b2f4e68e0e2ae0a4",
   "metadata": {
    "ExecuteTime": {
     "end_time": "2023-12-17T19:44:56.349486Z",
     "start_time": "2023-12-17T19:44:56.337730Z"
    }
   },
   "outputs": [
    {
     "data": {
      "text/plain": [
       "(60000, 785)"
      ]
     },
     "execution_count": 223,
     "metadata": {},
     "output_type": "execute_result"
    }
   ],
   "source": [
    "X_train.shape"
   ]
  },
  {
   "cell_type": "code",
   "execution_count": 225,
   "id": "e6f265eab9140f46",
   "metadata": {
    "ExecuteTime": {
     "end_time": "2023-12-17T19:44:57.897375Z",
     "start_time": "2023-12-17T19:44:57.885417Z"
    }
   },
   "outputs": [],
   "source": [
    "model = Perceptron(num_features=X_train.shape[1], classes=np.unique(y), epochs=3)"
   ]
  },
  {
   "cell_type": "code",
   "execution_count": 226,
   "id": "186c4a143d748919",
   "metadata": {
    "ExecuteTime": {
     "end_time": "2023-12-17T19:53:28.602731Z",
     "start_time": "2023-12-17T19:45:00.160605Z"
    }
   },
   "outputs": [
    {
     "name": "stdout",
     "output_type": "stream",
     "text": [
      "[0.0065625  0.00427083 0.01760417 0.02427083 0.01416667 0.023125\n",
      " 0.0109375  0.01197917 0.04947917 0.03864583]\n"
     ]
    },
    {
     "data": {
      "text/plain": [
       "302.8044650554657"
      ]
     },
     "execution_count": 226,
     "metadata": {},
     "output_type": "execute_result"
    }
   ],
   "source": [
    "start_time = time.time()\n",
    "model.fit(X_train, y_train)\n",
    "end_time = time.time()\n",
    "end_time - start_time"
   ]
  },
  {
   "cell_type": "code",
   "execution_count": 227,
   "id": "2759fa23-b671-48f8-9126-a3c37fe94f6c",
   "metadata": {},
   "outputs": [
    {
     "data": {
      "text/plain": [
       "array([3, 4, 5, ..., 1, 7, 1])"
      ]
     },
     "execution_count": 227,
     "metadata": {},
     "output_type": "execute_result"
    }
   ],
   "source": [
    "predictions = model.predict(X_test)\n",
    "predictions"
   ]
  },
  {
   "cell_type": "code",
   "execution_count": 228,
   "id": "1a38dd2c8ac96170",
   "metadata": {
    "ExecuteTime": {
     "end_time": "2023-12-17T19:53:28.802065Z",
     "start_time": "2023-12-17T19:53:28.797871Z"
    }
   },
   "outputs": [
    {
     "data": {
      "text/plain": [
       "0.8954"
      ]
     },
     "execution_count": 228,
     "metadata": {},
     "output_type": "execute_result"
    }
   ],
   "source": [
    "model.accuracy(predictions, y_test)"
   ]
  },
  {
   "cell_type": "code",
   "execution_count": 229,
   "id": "55c206bd17a9df70",
   "metadata": {},
   "outputs": [],
   "source": [
    "with open('model_weights.npy', 'wb') as f:\n",
    "    np.save(f, model.weights)"
   ]
  },
  {
   "cell_type": "code",
   "execution_count": null,
   "id": "4687f2ab-f681-4c6a-86fe-939ea0a01f03",
   "metadata": {},
   "outputs": [],
   "source": []
  },
  {
   "cell_type": "code",
   "execution_count": 35,
   "id": "cd4d2125",
   "metadata": {},
   "outputs": [],
   "source": [
    "def confusion_matrix(y_preds, y_true, label):\n",
    "    # a 2x2 matrix\n",
    "    confusion_matrix = np.array([[0, 0], [0, 0]])\n",
    "    # true positive\n",
    "    confusion_matrix[0, 0] = len(y_preds[(y_preds == y_true & y_true == label)])\n",
    "    # true negative\n",
    "    confusion_matrix[1, 1] = len(y_preds[(y_preds == y_true & y_true != label)])\n",
    "    # false positive\n",
    "    confusion_matrix[0, 1] = len(y_preds[(y_preds != y_true & y_true != label)])\n",
    "    # false negative\n",
    "    confusion_matrix[1, 0] = len(y_preds[(y_preds != y_true & y_true == label)])\n",
    "\n",
    "    return confusion_matrix"
   ]
  },
  {
   "cell_type": "code",
   "execution_count": null,
   "id": "54fe15e6-5bd6-40b9-953e-399f9501d69e",
   "metadata": {},
   "outputs": [],
   "source": []
  }
 ],
 "metadata": {
  "kernelspec": {
   "display_name": "Python 3 (ipykernel)",
   "language": "python",
   "name": "python3"
  },
  "language_info": {
   "codemirror_mode": {
    "name": "ipython",
    "version": 3
   },
   "file_extension": ".py",
   "mimetype": "text/x-python",
   "name": "python",
   "nbconvert_exporter": "python",
   "pygments_lexer": "ipython3",
   "version": "3.8.16"
  }
 },
 "nbformat": 4,
 "nbformat_minor": 5
}
