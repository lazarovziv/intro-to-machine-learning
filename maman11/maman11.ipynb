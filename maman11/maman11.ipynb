{
 "cells": [
  {
   "cell_type": "code",
   "execution_count": 1,
   "id": "initial_id",
   "metadata": {
    "ExecuteTime": {
     "end_time": "2023-12-17T18:33:56.001940Z",
     "start_time": "2023-12-17T18:33:55.391849Z"
    }
   },
   "outputs": [],
   "source": [
    "import time\n",
    "import sklearn.linear_model\n",
    "from sklearn.datasets import fetch_openml"
   ]
  },
  {
   "cell_type": "code",
   "execution_count": 2,
   "id": "aed34aeb81e2009f",
   "metadata": {
    "ExecuteTime": {
     "end_time": "2023-12-17T18:34:21.280779Z",
     "start_time": "2023-12-17T18:33:56.000156Z"
    }
   },
   "outputs": [
    {
     "name": "stderr",
     "output_type": "stream",
     "text": [
      "/Users/zivlazarov/miniforge3/envs/tensorflow-env/lib/python3.8/site-packages/sklearn/datasets/_openml.py:968: FutureWarning: The default value of `parser` will change from `'liac-arff'` to `'auto'` in 1.4. You can set `parser='auto'` to silence this warning. Therefore, an `ImportError` will be raised from 1.4 if the dataset is dense and pandas is not installed. Note that the pandas parser may return different data types. See the Notes Section in fetch_openml's API doc for details.\n",
      "  warn(\n"
     ]
    }
   ],
   "source": [
    "mnist = fetch_openml('mnist_784', version=1)"
   ]
  },
  {
   "cell_type": "code",
   "execution_count": 3,
   "id": "b724eddfe26c426a",
   "metadata": {
    "ExecuteTime": {
     "end_time": "2023-12-17T18:34:21.282264Z",
     "start_time": "2023-12-17T18:34:21.280158Z"
    }
   },
   "outputs": [],
   "source": [
    "X, y = mnist['data'], mnist['target']"
   ]
  },
  {
   "cell_type": "code",
   "execution_count": 4,
   "id": "999605737a6fe6bc",
   "metadata": {
    "ExecuteTime": {
     "end_time": "2023-12-17T18:34:21.288865Z",
     "start_time": "2023-12-17T18:34:21.281644Z"
    }
   },
   "outputs": [
    {
     "data": {
      "text/plain": [
       "(70000, 784)"
      ]
     },
     "execution_count": 4,
     "metadata": {},
     "output_type": "execute_result"
    }
   ],
   "source": [
    "X.shape"
   ]
  },
  {
   "cell_type": "code",
   "execution_count": 5,
   "id": "600e1678c18adcb1",
   "metadata": {
    "ExecuteTime": {
     "end_time": "2023-12-17T18:34:21.294835Z",
     "start_time": "2023-12-17T18:34:21.291806Z"
    }
   },
   "outputs": [
    {
     "data": {
      "text/plain": [
       "pixel782    0.0\n",
       "pixel783    0.0\n",
       "Name: 0, dtype: float64"
      ]
     },
     "execution_count": 5,
     "metadata": {},
     "output_type": "execute_result"
    }
   ],
   "source": [
    "X.iloc[0, -3:-1]"
   ]
  },
  {
   "cell_type": "code",
   "execution_count": 6,
   "id": "700e57da071e01c1",
   "metadata": {
    "ExecuteTime": {
     "end_time": "2023-12-17T18:34:21.301382Z",
     "start_time": "2023-12-17T18:34:21.294945Z"
    }
   },
   "outputs": [],
   "source": [
    "# setting pixel values to be in [0, 1] range\n",
    "# X = X/255.0"
   ]
  },
  {
   "cell_type": "code",
   "execution_count": 7,
   "id": "d103905cce7b61f3",
   "metadata": {
    "ExecuteTime": {
     "end_time": "2023-12-17T18:34:21.301507Z",
     "start_time": "2023-12-17T18:34:21.296870Z"
    }
   },
   "outputs": [],
   "source": [
    "columns = list(X.columns)"
   ]
  },
  {
   "cell_type": "code",
   "execution_count": 8,
   "id": "7906f3273f018a64",
   "metadata": {
    "ExecuteTime": {
     "end_time": "2023-12-17T18:34:21.330204Z",
     "start_time": "2023-12-17T18:34:21.300067Z"
    }
   },
   "outputs": [],
   "source": [
    "new_columns = ['bias']"
   ]
  },
  {
   "cell_type": "code",
   "execution_count": 9,
   "id": "857079070204200d",
   "metadata": {
    "ExecuteTime": {
     "end_time": "2023-12-17T18:34:21.337679Z",
     "start_time": "2023-12-17T18:34:21.302621Z"
    }
   },
   "outputs": [],
   "source": [
    "# new list for the dataframe's columns\n",
    "new_columns.extend(columns)"
   ]
  },
  {
   "cell_type": "code",
   "execution_count": 10,
   "id": "806dccbb44c36ae0",
   "metadata": {
    "ExecuteTime": {
     "end_time": "2023-12-17T18:34:21.338119Z",
     "start_time": "2023-12-17T18:34:21.305848Z"
    }
   },
   "outputs": [],
   "source": [
    "# creating the bias column\n",
    "X['bias'] = 1"
   ]
  },
  {
   "cell_type": "code",
   "execution_count": 11,
   "id": "481a9b8d0fde7928",
   "metadata": {
    "ExecuteTime": {
     "end_time": "2023-12-17T18:34:21.339751Z",
     "start_time": "2023-12-17T18:34:21.309783Z"
    }
   },
   "outputs": [
    {
     "data": {
      "text/html": [
       "<div>\n",
       "<style scoped>\n",
       "    .dataframe tbody tr th:only-of-type {\n",
       "        vertical-align: middle;\n",
       "    }\n",
       "\n",
       "    .dataframe tbody tr th {\n",
       "        vertical-align: top;\n",
       "    }\n",
       "\n",
       "    .dataframe thead th {\n",
       "        text-align: right;\n",
       "    }\n",
       "</style>\n",
       "<table border=\"1\" class=\"dataframe\">\n",
       "  <thead>\n",
       "    <tr style=\"text-align: right;\">\n",
       "      <th></th>\n",
       "      <th>pixel1</th>\n",
       "      <th>pixel2</th>\n",
       "      <th>pixel3</th>\n",
       "      <th>pixel4</th>\n",
       "      <th>pixel5</th>\n",
       "      <th>pixel6</th>\n",
       "      <th>pixel7</th>\n",
       "      <th>pixel8</th>\n",
       "      <th>pixel9</th>\n",
       "      <th>pixel10</th>\n",
       "      <th>...</th>\n",
       "      <th>pixel776</th>\n",
       "      <th>pixel777</th>\n",
       "      <th>pixel778</th>\n",
       "      <th>pixel779</th>\n",
       "      <th>pixel780</th>\n",
       "      <th>pixel781</th>\n",
       "      <th>pixel782</th>\n",
       "      <th>pixel783</th>\n",
       "      <th>pixel784</th>\n",
       "      <th>bias</th>\n",
       "    </tr>\n",
       "  </thead>\n",
       "  <tbody>\n",
       "    <tr>\n",
       "      <th>0</th>\n",
       "      <td>0.0</td>\n",
       "      <td>0.0</td>\n",
       "      <td>0.0</td>\n",
       "      <td>0.0</td>\n",
       "      <td>0.0</td>\n",
       "      <td>0.0</td>\n",
       "      <td>0.0</td>\n",
       "      <td>0.0</td>\n",
       "      <td>0.0</td>\n",
       "      <td>0.0</td>\n",
       "      <td>...</td>\n",
       "      <td>0.0</td>\n",
       "      <td>0.0</td>\n",
       "      <td>0.0</td>\n",
       "      <td>0.0</td>\n",
       "      <td>0.0</td>\n",
       "      <td>0.0</td>\n",
       "      <td>0.0</td>\n",
       "      <td>0.0</td>\n",
       "      <td>0.0</td>\n",
       "      <td>1</td>\n",
       "    </tr>\n",
       "    <tr>\n",
       "      <th>1</th>\n",
       "      <td>0.0</td>\n",
       "      <td>0.0</td>\n",
       "      <td>0.0</td>\n",
       "      <td>0.0</td>\n",
       "      <td>0.0</td>\n",
       "      <td>0.0</td>\n",
       "      <td>0.0</td>\n",
       "      <td>0.0</td>\n",
       "      <td>0.0</td>\n",
       "      <td>0.0</td>\n",
       "      <td>...</td>\n",
       "      <td>0.0</td>\n",
       "      <td>0.0</td>\n",
       "      <td>0.0</td>\n",
       "      <td>0.0</td>\n",
       "      <td>0.0</td>\n",
       "      <td>0.0</td>\n",
       "      <td>0.0</td>\n",
       "      <td>0.0</td>\n",
       "      <td>0.0</td>\n",
       "      <td>1</td>\n",
       "    </tr>\n",
       "    <tr>\n",
       "      <th>2</th>\n",
       "      <td>0.0</td>\n",
       "      <td>0.0</td>\n",
       "      <td>0.0</td>\n",
       "      <td>0.0</td>\n",
       "      <td>0.0</td>\n",
       "      <td>0.0</td>\n",
       "      <td>0.0</td>\n",
       "      <td>0.0</td>\n",
       "      <td>0.0</td>\n",
       "      <td>0.0</td>\n",
       "      <td>...</td>\n",
       "      <td>0.0</td>\n",
       "      <td>0.0</td>\n",
       "      <td>0.0</td>\n",
       "      <td>0.0</td>\n",
       "      <td>0.0</td>\n",
       "      <td>0.0</td>\n",
       "      <td>0.0</td>\n",
       "      <td>0.0</td>\n",
       "      <td>0.0</td>\n",
       "      <td>1</td>\n",
       "    </tr>\n",
       "    <tr>\n",
       "      <th>3</th>\n",
       "      <td>0.0</td>\n",
       "      <td>0.0</td>\n",
       "      <td>0.0</td>\n",
       "      <td>0.0</td>\n",
       "      <td>0.0</td>\n",
       "      <td>0.0</td>\n",
       "      <td>0.0</td>\n",
       "      <td>0.0</td>\n",
       "      <td>0.0</td>\n",
       "      <td>0.0</td>\n",
       "      <td>...</td>\n",
       "      <td>0.0</td>\n",
       "      <td>0.0</td>\n",
       "      <td>0.0</td>\n",
       "      <td>0.0</td>\n",
       "      <td>0.0</td>\n",
       "      <td>0.0</td>\n",
       "      <td>0.0</td>\n",
       "      <td>0.0</td>\n",
       "      <td>0.0</td>\n",
       "      <td>1</td>\n",
       "    </tr>\n",
       "    <tr>\n",
       "      <th>4</th>\n",
       "      <td>0.0</td>\n",
       "      <td>0.0</td>\n",
       "      <td>0.0</td>\n",
       "      <td>0.0</td>\n",
       "      <td>0.0</td>\n",
       "      <td>0.0</td>\n",
       "      <td>0.0</td>\n",
       "      <td>0.0</td>\n",
       "      <td>0.0</td>\n",
       "      <td>0.0</td>\n",
       "      <td>...</td>\n",
       "      <td>0.0</td>\n",
       "      <td>0.0</td>\n",
       "      <td>0.0</td>\n",
       "      <td>0.0</td>\n",
       "      <td>0.0</td>\n",
       "      <td>0.0</td>\n",
       "      <td>0.0</td>\n",
       "      <td>0.0</td>\n",
       "      <td>0.0</td>\n",
       "      <td>1</td>\n",
       "    </tr>\n",
       "  </tbody>\n",
       "</table>\n",
       "<p>5 rows × 785 columns</p>\n",
       "</div>"
      ],
      "text/plain": [
       "   pixel1  pixel2  pixel3  pixel4  pixel5  pixel6  pixel7  pixel8  pixel9  \\\n",
       "0     0.0     0.0     0.0     0.0     0.0     0.0     0.0     0.0     0.0   \n",
       "1     0.0     0.0     0.0     0.0     0.0     0.0     0.0     0.0     0.0   \n",
       "2     0.0     0.0     0.0     0.0     0.0     0.0     0.0     0.0     0.0   \n",
       "3     0.0     0.0     0.0     0.0     0.0     0.0     0.0     0.0     0.0   \n",
       "4     0.0     0.0     0.0     0.0     0.0     0.0     0.0     0.0     0.0   \n",
       "\n",
       "   pixel10  ...  pixel776  pixel777  pixel778  pixel779  pixel780  pixel781  \\\n",
       "0      0.0  ...       0.0       0.0       0.0       0.0       0.0       0.0   \n",
       "1      0.0  ...       0.0       0.0       0.0       0.0       0.0       0.0   \n",
       "2      0.0  ...       0.0       0.0       0.0       0.0       0.0       0.0   \n",
       "3      0.0  ...       0.0       0.0       0.0       0.0       0.0       0.0   \n",
       "4      0.0  ...       0.0       0.0       0.0       0.0       0.0       0.0   \n",
       "\n",
       "   pixel782  pixel783  pixel784  bias  \n",
       "0       0.0       0.0       0.0     1  \n",
       "1       0.0       0.0       0.0     1  \n",
       "2       0.0       0.0       0.0     1  \n",
       "3       0.0       0.0       0.0     1  \n",
       "4       0.0       0.0       0.0     1  \n",
       "\n",
       "[5 rows x 785 columns]"
      ]
     },
     "execution_count": 11,
     "metadata": {},
     "output_type": "execute_result"
    }
   ],
   "source": [
    "X.head()"
   ]
  },
  {
   "cell_type": "code",
   "execution_count": 12,
   "id": "c93002b7239b2eca",
   "metadata": {
    "ExecuteTime": {
     "end_time": "2023-12-17T18:34:21.407028Z",
     "start_time": "2023-12-17T18:34:21.321293Z"
    }
   },
   "outputs": [],
   "source": [
    "# reordering the dataframe with the first column to be the bias\n",
    "X = X[new_columns]"
   ]
  },
  {
   "cell_type": "code",
   "execution_count": 13,
   "id": "4cc8c6d5862c2637",
   "metadata": {
    "ExecuteTime": {
     "end_time": "2023-12-17T18:34:21.420928Z",
     "start_time": "2023-12-17T18:34:21.383928Z"
    }
   },
   "outputs": [
    {
     "data": {
      "text/html": [
       "<div>\n",
       "<style scoped>\n",
       "    .dataframe tbody tr th:only-of-type {\n",
       "        vertical-align: middle;\n",
       "    }\n",
       "\n",
       "    .dataframe tbody tr th {\n",
       "        vertical-align: top;\n",
       "    }\n",
       "\n",
       "    .dataframe thead th {\n",
       "        text-align: right;\n",
       "    }\n",
       "</style>\n",
       "<table border=\"1\" class=\"dataframe\">\n",
       "  <thead>\n",
       "    <tr style=\"text-align: right;\">\n",
       "      <th></th>\n",
       "      <th>bias</th>\n",
       "      <th>pixel1</th>\n",
       "      <th>pixel2</th>\n",
       "      <th>pixel3</th>\n",
       "      <th>pixel4</th>\n",
       "      <th>pixel5</th>\n",
       "      <th>pixel6</th>\n",
       "      <th>pixel7</th>\n",
       "      <th>pixel8</th>\n",
       "      <th>pixel9</th>\n",
       "      <th>...</th>\n",
       "      <th>pixel775</th>\n",
       "      <th>pixel776</th>\n",
       "      <th>pixel777</th>\n",
       "      <th>pixel778</th>\n",
       "      <th>pixel779</th>\n",
       "      <th>pixel780</th>\n",
       "      <th>pixel781</th>\n",
       "      <th>pixel782</th>\n",
       "      <th>pixel783</th>\n",
       "      <th>pixel784</th>\n",
       "    </tr>\n",
       "  </thead>\n",
       "  <tbody>\n",
       "    <tr>\n",
       "      <th>0</th>\n",
       "      <td>1</td>\n",
       "      <td>0.0</td>\n",
       "      <td>0.0</td>\n",
       "      <td>0.0</td>\n",
       "      <td>0.0</td>\n",
       "      <td>0.0</td>\n",
       "      <td>0.0</td>\n",
       "      <td>0.0</td>\n",
       "      <td>0.0</td>\n",
       "      <td>0.0</td>\n",
       "      <td>...</td>\n",
       "      <td>0.0</td>\n",
       "      <td>0.0</td>\n",
       "      <td>0.0</td>\n",
       "      <td>0.0</td>\n",
       "      <td>0.0</td>\n",
       "      <td>0.0</td>\n",
       "      <td>0.0</td>\n",
       "      <td>0.0</td>\n",
       "      <td>0.0</td>\n",
       "      <td>0.0</td>\n",
       "    </tr>\n",
       "    <tr>\n",
       "      <th>1</th>\n",
       "      <td>1</td>\n",
       "      <td>0.0</td>\n",
       "      <td>0.0</td>\n",
       "      <td>0.0</td>\n",
       "      <td>0.0</td>\n",
       "      <td>0.0</td>\n",
       "      <td>0.0</td>\n",
       "      <td>0.0</td>\n",
       "      <td>0.0</td>\n",
       "      <td>0.0</td>\n",
       "      <td>...</td>\n",
       "      <td>0.0</td>\n",
       "      <td>0.0</td>\n",
       "      <td>0.0</td>\n",
       "      <td>0.0</td>\n",
       "      <td>0.0</td>\n",
       "      <td>0.0</td>\n",
       "      <td>0.0</td>\n",
       "      <td>0.0</td>\n",
       "      <td>0.0</td>\n",
       "      <td>0.0</td>\n",
       "    </tr>\n",
       "    <tr>\n",
       "      <th>2</th>\n",
       "      <td>1</td>\n",
       "      <td>0.0</td>\n",
       "      <td>0.0</td>\n",
       "      <td>0.0</td>\n",
       "      <td>0.0</td>\n",
       "      <td>0.0</td>\n",
       "      <td>0.0</td>\n",
       "      <td>0.0</td>\n",
       "      <td>0.0</td>\n",
       "      <td>0.0</td>\n",
       "      <td>...</td>\n",
       "      <td>0.0</td>\n",
       "      <td>0.0</td>\n",
       "      <td>0.0</td>\n",
       "      <td>0.0</td>\n",
       "      <td>0.0</td>\n",
       "      <td>0.0</td>\n",
       "      <td>0.0</td>\n",
       "      <td>0.0</td>\n",
       "      <td>0.0</td>\n",
       "      <td>0.0</td>\n",
       "    </tr>\n",
       "    <tr>\n",
       "      <th>3</th>\n",
       "      <td>1</td>\n",
       "      <td>0.0</td>\n",
       "      <td>0.0</td>\n",
       "      <td>0.0</td>\n",
       "      <td>0.0</td>\n",
       "      <td>0.0</td>\n",
       "      <td>0.0</td>\n",
       "      <td>0.0</td>\n",
       "      <td>0.0</td>\n",
       "      <td>0.0</td>\n",
       "      <td>...</td>\n",
       "      <td>0.0</td>\n",
       "      <td>0.0</td>\n",
       "      <td>0.0</td>\n",
       "      <td>0.0</td>\n",
       "      <td>0.0</td>\n",
       "      <td>0.0</td>\n",
       "      <td>0.0</td>\n",
       "      <td>0.0</td>\n",
       "      <td>0.0</td>\n",
       "      <td>0.0</td>\n",
       "    </tr>\n",
       "    <tr>\n",
       "      <th>4</th>\n",
       "      <td>1</td>\n",
       "      <td>0.0</td>\n",
       "      <td>0.0</td>\n",
       "      <td>0.0</td>\n",
       "      <td>0.0</td>\n",
       "      <td>0.0</td>\n",
       "      <td>0.0</td>\n",
       "      <td>0.0</td>\n",
       "      <td>0.0</td>\n",
       "      <td>0.0</td>\n",
       "      <td>...</td>\n",
       "      <td>0.0</td>\n",
       "      <td>0.0</td>\n",
       "      <td>0.0</td>\n",
       "      <td>0.0</td>\n",
       "      <td>0.0</td>\n",
       "      <td>0.0</td>\n",
       "      <td>0.0</td>\n",
       "      <td>0.0</td>\n",
       "      <td>0.0</td>\n",
       "      <td>0.0</td>\n",
       "    </tr>\n",
       "  </tbody>\n",
       "</table>\n",
       "<p>5 rows × 785 columns</p>\n",
       "</div>"
      ],
      "text/plain": [
       "   bias  pixel1  pixel2  pixel3  pixel4  pixel5  pixel6  pixel7  pixel8  \\\n",
       "0     1     0.0     0.0     0.0     0.0     0.0     0.0     0.0     0.0   \n",
       "1     1     0.0     0.0     0.0     0.0     0.0     0.0     0.0     0.0   \n",
       "2     1     0.0     0.0     0.0     0.0     0.0     0.0     0.0     0.0   \n",
       "3     1     0.0     0.0     0.0     0.0     0.0     0.0     0.0     0.0   \n",
       "4     1     0.0     0.0     0.0     0.0     0.0     0.0     0.0     0.0   \n",
       "\n",
       "   pixel9  ...  pixel775  pixel776  pixel777  pixel778  pixel779  pixel780  \\\n",
       "0     0.0  ...       0.0       0.0       0.0       0.0       0.0       0.0   \n",
       "1     0.0  ...       0.0       0.0       0.0       0.0       0.0       0.0   \n",
       "2     0.0  ...       0.0       0.0       0.0       0.0       0.0       0.0   \n",
       "3     0.0  ...       0.0       0.0       0.0       0.0       0.0       0.0   \n",
       "4     0.0  ...       0.0       0.0       0.0       0.0       0.0       0.0   \n",
       "\n",
       "   pixel781  pixel782  pixel783  pixel784  \n",
       "0       0.0       0.0       0.0       0.0  \n",
       "1       0.0       0.0       0.0       0.0  \n",
       "2       0.0       0.0       0.0       0.0  \n",
       "3       0.0       0.0       0.0       0.0  \n",
       "4       0.0       0.0       0.0       0.0  \n",
       "\n",
       "[5 rows x 785 columns]"
      ]
     },
     "execution_count": 13,
     "metadata": {},
     "output_type": "execute_result"
    }
   ],
   "source": [
    "X.head()"
   ]
  },
  {
   "cell_type": "code",
   "execution_count": 14,
   "id": "7a2da81eb41574cb",
   "metadata": {
    "ExecuteTime": {
     "end_time": "2023-12-17T18:34:21.421059Z",
     "start_time": "2023-12-17T18:34:21.388938Z"
    }
   },
   "outputs": [
    {
     "data": {
      "text/plain": [
       "(70000, 785)"
      ]
     },
     "execution_count": 14,
     "metadata": {},
     "output_type": "execute_result"
    }
   ],
   "source": [
    "# getting the correct shape\n",
    "X.shape"
   ]
  },
  {
   "cell_type": "code",
   "execution_count": 15,
   "id": "420b3eb9d0901970",
   "metadata": {
    "ExecuteTime": {
     "end_time": "2023-12-17T18:34:21.421116Z",
     "start_time": "2023-12-17T18:34:21.392008Z"
    }
   },
   "outputs": [
    {
     "data": {
      "text/plain": [
       "(70000,)"
      ]
     },
     "execution_count": 15,
     "metadata": {},
     "output_type": "execute_result"
    }
   ],
   "source": [
    "y.shape"
   ]
  },
  {
   "cell_type": "code",
   "execution_count": 16,
   "id": "b4de14ccb9cebe95",
   "metadata": {
    "ExecuteTime": {
     "end_time": "2023-12-17T18:34:21.421176Z",
     "start_time": "2023-12-17T18:34:21.395704Z"
    }
   },
   "outputs": [
    {
     "data": {
      "text/plain": [
       "0    5\n",
       "1    0\n",
       "2    4\n",
       "3    1\n",
       "4    9\n",
       "Name: class, dtype: category\n",
       "Categories (10, object): ['0', '1', '2', '3', ..., '6', '7', '8', '9']"
      ]
     },
     "execution_count": 16,
     "metadata": {},
     "output_type": "execute_result"
    }
   ],
   "source": [
    "y.head()"
   ]
  },
  {
   "cell_type": "code",
   "execution_count": 17,
   "id": "721417d9c407fd1b",
   "metadata": {
    "ExecuteTime": {
     "end_time": "2023-12-17T18:34:21.421229Z",
     "start_time": "2023-12-17T18:34:21.398510Z"
    }
   },
   "outputs": [],
   "source": [
    "# working with integers instead of strings for convenience\n",
    "y = y.apply(lambda x : int(x))"
   ]
  },
  {
   "cell_type": "code",
   "execution_count": 18,
   "id": "7420c4660bb29b5f",
   "metadata": {
    "ExecuteTime": {
     "end_time": "2023-12-17T18:34:21.421582Z",
     "start_time": "2023-12-17T18:34:21.402882Z"
    },
    "scrolled": true
   },
   "outputs": [
    {
     "data": {
      "text/plain": [
       "0    5\n",
       "1    0\n",
       "2    4\n",
       "3    1\n",
       "4    9\n",
       "Name: class, dtype: category\n",
       "Categories (10, int64): [0, 1, 2, 3, ..., 6, 7, 8, 9]"
      ]
     },
     "execution_count": 18,
     "metadata": {},
     "output_type": "execute_result"
    }
   ],
   "source": [
    "y.head()"
   ]
  },
  {
   "cell_type": "code",
   "execution_count": 19,
   "id": "c97dadba68536ed8",
   "metadata": {
    "ExecuteTime": {
     "end_time": "2023-12-17T18:34:21.856221Z",
     "start_time": "2023-12-17T18:34:21.405945Z"
    }
   },
   "outputs": [],
   "source": [
    "import matplotlib.pyplot as plt"
   ]
  },
  {
   "cell_type": "code",
   "execution_count": 342,
   "id": "000c58d8",
   "metadata": {
    "scrolled": false
   },
   "outputs": [
    {
     "data": {
      "text/plain": [
       "<matplotlib.image.AxesImage at 0x14088baf0>"
      ]
     },
     "execution_count": 342,
     "metadata": {},
     "output_type": "execute_result"
    },
    {
     "data": {
      "image/png": "[encoded data removed]",
      "text/plain": [
       "<Figure size 640x480 with 1 Axes>"
      ]
     },
     "metadata": {},
     "output_type": "display_data"
    }
   ],
   "source": [
    "# getting an idea of an image\n",
    "plt.imshow(X.to_numpy()[0, 1:].reshape(28, 28))"
   ]
  },
  {
   "cell_type": "code",
   "execution_count": 27,
   "id": "8a3125c9",
   "metadata": {},
   "outputs": [
    {
     "data": {
      "text/plain": [
       "(array([6903., 7877., 6990., 7141., 6824., 6313., 6876., 7293., 6825.,\n",
       "        6958.]),\n",
       " array([0. , 0.9, 1.8, 2.7, 3.6, 4.5, 5.4, 6.3, 7.2, 8.1, 9. ]),\n",
       " <BarContainer object of 10 artists>)"
      ]
     },
     "execution_count": 27,
     "metadata": {},
     "output_type": "execute_result"
    },
    {
     "data": {
      "image/png": "[encoded data removed]",
      "text/plain": [
       "<Figure size 640x480 with 1 Axes>"
      ]
     },
     "metadata": {},
     "output_type": "display_data"
    }
   ],
   "source": [
    "# check distribution of each digit\n",
    "plt.hist(y)"
   ]
  },
  {
   "cell_type": "code",
   "execution_count": 343,
   "id": "baf9af43",
   "metadata": {
    "scrolled": false
   },
   "outputs": [
    {
     "data": {
      "text/plain": [
       "(array([[10.,  0.,  0.,  0.,  0.,  0.,  0.,  0.,  0.,  0.],\n",
       "        [10.,  0.,  0.,  0.,  0.,  0.,  0.,  0.,  0.,  0.],\n",
       "        [10.,  0.,  0.,  0.,  0.,  0.,  0.,  0.,  0.,  0.],\n",
       "        [10.,  0.,  0.,  0.,  0.,  0.,  0.,  0.,  0.,  0.],\n",
       "        [10.,  0.,  0.,  0.,  0.,  0.,  0.,  0.,  0.,  0.],\n",
       "        [10.,  0.,  0.,  0.,  0.,  0.,  0.,  0.,  0.,  0.],\n",
       "        [ 7.,  1.,  0.,  0.,  0.,  0.,  0.,  0.,  2.,  0.],\n",
       "        [ 7.,  0.,  1.,  0.,  0.,  0.,  0.,  0.,  0.,  2.],\n",
       "        [ 6.,  0.,  1.,  0.,  1.,  0.,  0.,  0.,  0.,  2.],\n",
       "        [ 6.,  1.,  1.,  1.,  0.,  0.,  0.,  0.,  0.,  1.],\n",
       "        [ 8.,  0.,  0.,  0.,  0.,  0.,  1.,  0.,  0.,  1.],\n",
       "        [ 6.,  1.,  0.,  0.,  1.,  0.,  0.,  0.,  0.,  2.],\n",
       "        [ 6.,  0.,  0.,  0.,  0.,  0.,  1.,  0.,  1.,  2.],\n",
       "        [ 6.,  0.,  0.,  0.,  1.,  0.,  0.,  0.,  0.,  3.],\n",
       "        [ 6.,  0.,  0.,  0.,  0.,  1.,  1.,  0.,  0.,  2.],\n",
       "        [ 6.,  0.,  0.,  0.,  0.,  1.,  0.,  1.,  0.,  2.],\n",
       "        [ 5.,  1.,  0.,  0.,  0.,  0.,  0.,  0.,  2.,  2.],\n",
       "        [ 4.,  1.,  0.,  1.,  0.,  0.,  1.,  0.,  0.,  3.],\n",
       "        [ 4.,  0.,  0.,  0.,  1.,  0.,  1.,  0.,  0.,  4.],\n",
       "        [ 5.,  0.,  0.,  0.,  1.,  0.,  0.,  0.,  0.,  4.],\n",
       "        [ 6.,  1.,  0.,  1.,  0.,  0.,  0.,  0.,  0.,  2.],\n",
       "        [10.,  0.,  0.,  0.,  0.,  0.,  0.,  0.,  0.,  0.],\n",
       "        [10.,  0.,  0.,  0.,  0.,  0.,  0.,  0.,  0.,  0.],\n",
       "        [10.,  0.,  0.,  0.,  0.,  0.,  0.,  0.,  0.,  0.],\n",
       "        [10.,  0.,  0.,  0.,  0.,  0.,  0.,  0.,  0.,  0.],\n",
       "        [10.,  0.,  0.,  0.,  0.,  0.,  0.,  0.,  0.,  0.],\n",
       "        [10.,  0.,  0.,  0.,  0.,  0.,  0.,  0.,  0.,  0.],\n",
       "        [10.,  0.,  0.,  0.,  0.,  0.,  0.,  0.,  0.,  0.]]),\n",
       " array([  0. ,  25.4,  50.8,  76.2, 101.6, 127. , 152.4, 177.8, 203.2,\n",
       "        228.6, 254. ]),\n",
       " <a list of 28 BarContainer objects>)"
      ]
     },
     "execution_count": 343,
     "metadata": {},
     "output_type": "execute_result"
    },
    {
     "data": {
      "image/png": "[encoded data removed]",
      "text/plain": [
       "<Figure size 640x480 with 1 Axes>"
      ]
     },
     "metadata": {},
     "output_type": "display_data"
    }
   ],
   "source": [
    "plt.hist(X_train[np.where(y_train == 2)][0, 1:].reshape(28, 28)[10:20, :])"
   ]
  },
  {
   "cell_type": "code",
   "execution_count": 344,
   "id": "1c91d1c5",
   "metadata": {},
   "outputs": [
    {
     "data": {
      "text/plain": [
       "(array([[10.,  0.,  0.,  0.,  0.,  0.,  0.,  0.,  0.,  0.],\n",
       "        [10.,  0.,  0.,  0.,  0.,  0.,  0.,  0.,  0.,  0.],\n",
       "        [10.,  0.,  0.,  0.,  0.,  0.,  0.,  0.,  0.,  0.],\n",
       "        [ 9.,  0.,  0.,  0.,  1.,  0.,  0.,  0.,  0.,  0.],\n",
       "        [ 9.,  0.,  0.,  0.,  0.,  0.,  1.,  0.,  0.,  0.],\n",
       "        [ 9.,  0.,  0.,  0.,  0.,  0.,  0.,  1.,  0.,  0.],\n",
       "        [ 8.,  1.,  0.,  0.,  0.,  0.,  0.,  0.,  0.,  1.],\n",
       "        [ 9.,  0.,  0.,  0.,  0.,  0.,  0.,  0.,  1.,  0.],\n",
       "        [ 9.,  0.,  0.,  0.,  0.,  0.,  0.,  1.,  0.,  0.],\n",
       "        [ 9.,  0.,  0.,  0.,  0.,  0.,  0.,  0.,  1.,  0.],\n",
       "        [ 8.,  1.,  0.,  0.,  0.,  0.,  0.,  0.,  0.,  1.],\n",
       "        [ 8.,  1.,  0.,  0.,  0.,  0.,  0.,  0.,  0.,  1.],\n",
       "        [ 8.,  1.,  0.,  0.,  0.,  0.,  0.,  0.,  0.,  1.],\n",
       "        [ 8.,  0.,  0.,  1.,  0.,  0.,  0.,  0.,  0.,  1.],\n",
       "        [ 8.,  0.,  0.,  0.,  0.,  1.,  0.,  0.,  0.,  1.],\n",
       "        [ 8.,  0.,  0.,  0.,  0.,  1.,  0.,  0.,  0.,  1.],\n",
       "        [ 8.,  0.,  0.,  0.,  0.,  0.,  1.,  0.,  0.,  1.],\n",
       "        [ 8.,  0.,  0.,  0.,  0.,  0.,  0.,  0.,  0.,  2.],\n",
       "        [ 4.,  1.,  0.,  0.,  1.,  1.,  1.,  0.,  0.,  2.],\n",
       "        [ 0.,  0.,  1.,  0.,  3.,  0.,  1.,  0.,  0.,  5.],\n",
       "        [ 2.,  0.,  0.,  0.,  1.,  1.,  0.,  0.,  1.,  5.],\n",
       "        [ 5.,  0.,  1.,  1.,  0.,  1.,  0.,  0.,  0.,  2.],\n",
       "        [10.,  0.,  0.,  0.,  0.,  0.,  0.,  0.,  0.,  0.],\n",
       "        [10.,  0.,  0.,  0.,  0.,  0.,  0.,  0.,  0.,  0.],\n",
       "        [10.,  0.,  0.,  0.,  0.,  0.,  0.,  0.,  0.,  0.],\n",
       "        [10.,  0.,  0.,  0.,  0.,  0.,  0.,  0.,  0.,  0.],\n",
       "        [10.,  0.,  0.,  0.,  0.,  0.,  0.,  0.,  0.,  0.],\n",
       "        [10.,  0.,  0.,  0.,  0.,  0.,  0.,  0.,  0.,  0.]]),\n",
       " array([  0. ,  25.5,  51. ,  76.5, 102. , 127.5, 153. , 178.5, 204. ,\n",
       "        229.5, 255. ]),\n",
       " <a list of 28 BarContainer objects>)"
      ]
     },
     "execution_count": 344,
     "metadata": {},
     "output_type": "execute_result"
    },
    {
     "data": {
      "image/png": "[encoded data removed]",
      "text/plain": [
       "<Figure size 640x480 with 1 Axes>"
      ]
     },
     "metadata": {},
     "output_type": "display_data"
    }
   ],
   "source": [
    "plt.hist(X_train[np.where(y_train == 7)][0, 1:].reshape(28, 28)[10:20, :])"
   ]
  },
  {
   "cell_type": "code",
   "execution_count": 345,
   "id": "8f186f985d6589d9",
   "metadata": {
    "ExecuteTime": {
     "end_time": "2023-12-17T19:32:36.918902Z",
     "start_time": "2023-12-17T19:32:36.910796Z"
    }
   },
   "outputs": [],
   "source": [
    "import numpy as np\n",
    "\n",
    "\n",
    "class Perceptron:\n",
    "\n",
    "    def __init__(self, num_features, classes, epochs=1):\n",
    "        # num_features here includes the extra bias column with the dataset\n",
    "        self.classes = classes\n",
    "        self.num_classes = len(self.classes)\n",
    "        self.num_features = num_features\n",
    "        self.num_samples = 0\n",
    "        self.epochs = epochs\n",
    "        \n",
    "        # initializing the weights vector for every class with values [-1, 1]\n",
    "        self.weights = np.random.uniform(low=-1, high=1, size=(self.num_classes, self.num_features))\n",
    "#         self.weights = np.random.rand(self.num_classes, self.num_features)\n",
    "#         self.weights = np.zeros(shape=(self.num_classes, self.num_features))\n",
    "        self.final_weights = self.weights\n",
    "        # determined by the size of samples\n",
    "        self.labels = None\n",
    "                  \n",
    "    def init_multi_class_labels(self, y_train):\n",
    "        self.num_samples = X_train.shape[0]\n",
    "        # initializing the perceptron training labels\n",
    "        self.labels = np.zeros(shape=(self.num_classes, self.num_samples))\n",
    "        # setting labels' values based on every class in the training data\n",
    "        for class_idx in range(self.num_classes):\n",
    "            self.labels[class_idx][y_train == class_idx] = 1\n",
    "            self.labels[class_idx][y_train != class_idx] = -1\n",
    "\n",
    "    def fit(self, X_train, y_train):\n",
    "        self.init_multi_class_labels(y_train)\n",
    "        # defining error value for each class for pocket algorithm\n",
    "        min_errors = np.full(shape=(self.num_classes,), fill_value=np.inf)\n",
    "        \n",
    "        # traversing the dataset\n",
    "        for epoch in range(self.epochs):\n",
    "            for t in range(self.num_samples):\n",
    "                # using the np.sign method because probability of dot product to be 0 is very low\n",
    "                y_preds = np.sign(self.weights(X_train[t]))\n",
    "                \n",
    "                # getting all classes that were misclassified\n",
    "                misclassified_classes_indexes = np.where(y_preds != self.labels[:, t])\n",
    "\n",
    "                # updating weights vectors for every misclassified label\n",
    "                self.weights[misclassified_classes_indexes] += \\\n",
    "                y_preds[misclassified_classes_indexes][:, np.newaxis] * X_train[t, :]\n",
    "                \n",
    "                # calculating their errors\n",
    "                errors_t = np.sum(\n",
    "                    np.sign(self.weights.dot(X_train.T)) != self.labels\n",
    "                , axis=1) / self.num_samples\n",
    "                \n",
    "                # pocketing the improved weight vectors\n",
    "                to_improve_classes_indexes = np.where(errors_t < min_errors)\n",
    "                self.final_weights[to_improve_classes_indexes, :] = self.weights[to_improve_classes_indexes, :]\n",
    "                min_errors[to_improve_classes_indexes] = errors_t[to_improve_classes_indexes]\n",
    "    \n",
    "            \n",
    "        print(min_errors)\n",
    "                        \n",
    "    def predict(self, X):\n",
    "        # argmax returns the digits\n",
    "        return np.argmax(self.weights.dot(X))\n",
    "        \n",
    "\n",
    "    def error(self, weights, X, y):\n",
    "        return np.sum(np.sign(weights.dot(X.T)) != y) / self.num_samples\n",
    "\n",
    "\n",
    "def sign(value):\n",
    "    return 1 if value >= 0 else -1"
   ]
  },
  {
   "cell_type": "code",
   "execution_count": 346,
   "id": "e10f004b",
   "metadata": {},
   "outputs": [],
   "source": [
    "def perceptron(X_train, y_train, digit):\n",
    "    num_samples = X_train.shape[0]\n",
    "    num_features = X_train.shape[1]\n",
    "    \n",
    "    weights = np.random.rand(num_features)\n",
    "    best_weights = weights\n",
    "    labels = np.zeros(shape=(num_samples, ))\n",
    "    labels[y_train == digit] = 1\n",
    "    labels[y_train != digit] = -1\n",
    "    min_error = np.inf\n",
    "    \n",
    "    for i in range(num_samples):\n",
    "        y_pred = sign(weights.dot(X_train[i]))\n",
    "        if y_pred != labels[i]:\n",
    "            weights += y_pred * X_train[i]\n",
    "        error = np.sum(np.sign(weights.dot(X_train.T)) != labels) / num_samples\n",
    "        if error < min_error:\n",
    "            best_weights = weights\n",
    "            min_error = error\n",
    "    return best_weights"
   ]
  },
  {
   "cell_type": "code",
   "execution_count": 347,
   "id": "2913eff25e86ee90",
   "metadata": {
    "ExecuteTime": {
     "end_time": "2023-12-17T19:32:42.414465Z",
     "start_time": "2023-12-17T19:32:42.396502Z"
    }
   },
   "outputs": [],
   "source": [
    "from sklearn.model_selection import train_test_split\n",
    "num_train_samples = 10000"
   ]
  },
  {
   "cell_type": "code",
   "execution_count": 348,
   "id": "f630136d790aaff1",
   "metadata": {
    "ExecuteTime": {
     "end_time": "2023-12-17T19:44:56.213161Z",
     "start_time": "2023-12-17T19:44:55.925796Z"
    }
   },
   "outputs": [],
   "source": [
    "X_train, X_test, y_train, y_test = train_test_split(X, y, train_size=num_train_samples/len(X), shuffle=True)\n",
    "X_train, X_test, y_train, y_test = X_train.to_numpy(), X_test.to_numpy(), y_train.to_numpy(), y_test.to_numpy()"
   ]
  },
  {
   "cell_type": "code",
   "execution_count": 349,
   "id": "b2f4e68e0e2ae0a4",
   "metadata": {
    "ExecuteTime": {
     "end_time": "2023-12-17T19:44:56.349486Z",
     "start_time": "2023-12-17T19:44:56.337730Z"
    }
   },
   "outputs": [
    {
     "data": {
      "text/plain": [
       "(10000, 785)"
      ]
     },
     "execution_count": 349,
     "metadata": {},
     "output_type": "execute_result"
    }
   ],
   "source": [
    "X_train.shape"
   ]
  },
  {
   "cell_type": "code",
   "execution_count": 315,
   "id": "e6f265eab9140f46",
   "metadata": {
    "ExecuteTime": {
     "end_time": "2023-12-17T19:44:57.897375Z",
     "start_time": "2023-12-17T19:44:57.885417Z"
    }
   },
   "outputs": [],
   "source": [
    "model = Perceptron(num_features=X_train.shape[1], classes=y.unique(), epochs=1)"
   ]
  },
  {
   "cell_type": "code",
   "execution_count": 316,
   "id": "186c4a143d748919",
   "metadata": {
    "ExecuteTime": {
     "end_time": "2023-12-17T19:53:28.602731Z",
     "start_time": "2023-12-17T19:45:00.160605Z"
    }
   },
   "outputs": [
    {
     "name": "stdout",
     "output_type": "stream",
     "text": [
      "[0.897  0.1698 0.9017 0.7838 0.902  0.9057 0.9008 0.8969 0.096  0.907 ]\n"
     ]
    }
   ],
   "source": [
    "start_time = time.time()\n",
    "model.fit(X_train, y_train)\n",
    "end_time = time.time()"
   ]
  },
  {
   "cell_type": "code",
   "execution_count": 317,
   "id": "627ffd63a6f53ae2",
   "metadata": {
    "ExecuteTime": {
     "end_time": "2023-12-17T19:53:28.603904Z",
     "start_time": "2023-12-17T19:53:28.599484Z"
    }
   },
   "outputs": [
    {
     "data": {
      "text/plain": [
       "66.0732810497284"
      ]
     },
     "execution_count": 317,
     "metadata": {},
     "output_type": "execute_result"
    }
   ],
   "source": [
    "end_time - start_time"
   ]
  },
  {
   "cell_type": "code",
   "execution_count": 318,
   "id": "1a38dd2c8ac96170",
   "metadata": {
    "ExecuteTime": {
     "end_time": "2023-12-17T19:53:28.802065Z",
     "start_time": "2023-12-17T19:53:28.797871Z"
    }
   },
   "outputs": [
    {
     "data": {
      "text/plain": [
       "0.0023333333333333335"
      ]
     },
     "execution_count": 318,
     "metadata": {},
     "output_type": "execute_result"
    }
   ],
   "source": [
    "num_test_samples = len(y_test)\n",
    "predictions = np.zeros(shape=(num_test_samples,))\n",
    "for i in range(num_test_samples):\n",
    "    predictions[i] = model.predict(X_test[i])\n",
    "np.sum(predictions == y_test) / num_test_samples"
   ]
  },
  {
   "cell_type": "code",
   "execution_count": null,
   "id": "049be799",
   "metadata": {},
   "outputs": [],
   "source": [
    "weights = np.zeros(shape=(y.nunique(), X.shape[1]))\n",
    "for i in range(y.nunique()):\n",
    "    weights[i] = perceptron(X_train, y_train, i)\n",
    "\n",
    "num_test_samples = len(y_test)\n",
    "predictions = np.zeros(shape=(num_test_samples,))\n",
    "for i in range(num_test_samples):\n",
    "    predictions[i] = np.argmax(weights.dot(X_test[i]))\n",
    "np.sum(predictions == y_test) / num_test_samples"
   ]
  },
  {
   "cell_type": "code",
   "execution_count": null,
   "id": "55c206bd17a9df70",
   "metadata": {},
   "outputs": [],
   "source": [
    "with open('model_weights.npy', 'wb') as f:\n",
    "    np.save(f, model.final_weights)"
   ]
  },
  {
   "cell_type": "code",
   "execution_count": null,
   "id": "79171b36",
   "metadata": {},
   "outputs": [],
   "source": []
  }
 ],
 "metadata": {
  "kernelspec": {
   "display_name": "Python 3 (ipykernel)",
   "language": "python",
   "name": "python3"
  },
  "language_info": {
   "codemirror_mode": {
    "name": "ipython",
    "version": 3
   },
   "file_extension": ".py",
   "mimetype": "text/x-python",
   "name": "python",
   "nbconvert_exporter": "python",
   "pygments_lexer": "ipython3",
   "version": "3.8.16"
  }
 },
 "nbformat": 4,
 "nbformat_minor": 5
}
